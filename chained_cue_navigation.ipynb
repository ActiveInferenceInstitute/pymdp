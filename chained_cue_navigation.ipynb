{
 "cells": [
  {
   "cell_type": "code",
   "execution_count": 60,
   "metadata": {},
   "outputs": [],
   "source": [
    "import os\n",
    "import sys\n",
    "import pathlib\n",
    "import numpy as np\n",
    "import seaborn as sns\n",
    "import matplotlib.pyplot as plt\n",
    "import copy\n",
    "\n",
    "from matplotlib.offsetbox import OffsetImage, AnnotationBbox\n",
    "from matplotlib.animation import FuncAnimation\n",
    "import matplotlib.animation as animation \n",
    "\n",
    "path = pathlib.Path(os.getcwd())\n",
    "sys.path.append(str(path) + '/')\n",
    "\n",
    "from pymdp.agent import Agent\n",
    "from pymdp import utils, maths\n",
    "\n",
    "from IPython.display import HTML, Image\n"
   ]
  },
  {
   "cell_type": "code",
   "execution_count": 2,
   "metadata": {},
   "outputs": [],
   "source": [
    "# set up dimensionalities of the generative model and environment\n",
    "\n",
    "grid_dims = [5, 7] # dimensions of the grid\n",
    "num_grid_points = np.prod(grid_dims)\n",
    "\n",
    "# create a look-up table mapping linear indices to (y, x) tuples\n",
    "grid = np.arange(num_grid_points).reshape(grid_dims)\n",
    "it = np.nditer(grid, flags=[\"multi_index\"])\n",
    "\n",
    "loc_list = []\n",
    "while not it.finished:\n",
    "    loc_list.append(it.multi_index)\n",
    "    it.iternext()\n",
    "\n",
    "cue1_location = (2, 0)\n",
    "# cue2_locations = [(1, 3), (1, 5), (3, 3), (3, 5)]\n",
    "cue2_locations = [(0, 2), (1, 3), (3, 3), (4, 2)]\n",
    "\n",
    "reward_conditions = [\"TOP\", \"BOTTOM\"]\n",
    "# reward_locations = [(0, 4), (4, 4)]\n",
    "reward_locations = [(1, 5), (3, 5)]\n",
    "\n",
    "num_states = [num_grid_points, len(cue2_locations), len(reward_conditions)]\n",
    "\n",
    "cue1_names = ['Null', 'Cue 1', 'Cue 2', 'Cue 3', 'Cue 4'] # different possible cue identities at cue1 location\n",
    "cue2_names = ['Null', 'reward_on_top', 'reward_on_bottom']\n",
    "\n",
    "reward_names = ['Null', '+5', '-10']\n",
    "\n",
    "num_obs = [num_grid_points, len(cue1_names), len(cue2_names), len(reward_names)]"
   ]
  },
  {
   "cell_type": "code",
   "execution_count": 3,
   "metadata": {},
   "outputs": [],
   "source": [
    "# A matrix\n",
    "A_m_shapes = [ [o_dim] + num_states for o_dim in num_obs]\n",
    "A = utils.obj_array_zeros(A_m_shapes)\n",
    "\n",
    "# make the location observation only depend on the location state (proprioceptive observation modality)\n",
    "A[0] = np.tile(np.expand_dims(np.eye(num_grid_points), (-2, -1)), (1, 1, num_states[1], num_states[2]))\n",
    "\n",
    "# make the cue1 observation depend on the location (being at cue1_location) and the true location of cue2\n",
    "A[1][0,:,:,:] = 1.0 # default makes Null the most likely observation everywhere\n",
    "\n",
    "for i, cue_loc2_i in enumerate(cue2_locations):\n",
    "    A[1][0,loc_list.index(cue1_location),i,:] = 0.0\n",
    "    A[1][i+1,loc_list.index(cue1_location),i,:] = 1.0\n",
    "\n",
    "# make the cue2 observation depend on the location (being at the correct cue2_location) and the reward condition\n",
    "A[2][0,:,:,:] = 1.0 # default makes Null the most likely observation everywhere\n",
    "\n",
    "for i, cue_loc2_i in enumerate(cue2_locations):\n",
    "\n",
    "    # if the cue2-location is the one you're currently at, then you get a signal about where the reward is\n",
    "    A[2][0,loc_list.index(cue_loc2_i),i,:] = 0.0 \n",
    "    A[2][1,loc_list.index(cue_loc2_i),i,0] = 1.0\n",
    "    A[2][2,loc_list.index(cue_loc2_i),i,1] = 1.0\n",
    "    \n",
    "# make the reward observation depend on the location (being at reward location) and the reward condition\n",
    "A[3][0,:,:,:] = 1.0 # default makes Null the most likely observation everywhere\n",
    "\n",
    "A[3][0,loc_list.index(reward_locations[0]),:,:] = 0.0\n",
    "A[3][1,loc_list.index(reward_locations[0]),:,0] = 1.0\n",
    "A[3][2,loc_list.index(reward_locations[0]),:,1] = 1.0\n",
    "\n",
    "A[3][0,loc_list.index(reward_locations[1]),:,:] = 0.0\n",
    "A[3][1,loc_list.index(reward_locations[1]),:,1] = 1.0\n",
    "A[3][2,loc_list.index(reward_locations[1]),:,0] = 1.0"
   ]
  },
  {
   "cell_type": "code",
   "execution_count": 4,
   "metadata": {},
   "outputs": [],
   "source": [
    "# B matrix\n",
    "\n",
    "num_controls = [5, 1, 1]\n",
    "B_f_shapes = [ [ns, ns, num_controls[f]] for f, ns in enumerate(num_states)]\n",
    "\n",
    "B = utils.obj_array_zeros(B_f_shapes)\n",
    "actions = [\"UP\", \"DOWN\", \"LEFT\", \"RIGHT\", \"STAY\"]\n",
    "\n",
    "for action_id, action_label in enumerate(actions):\n",
    "\n",
    "  for curr_state, grid_location in enumerate(loc_list):\n",
    "\n",
    "    y, x = grid_location\n",
    "\n",
    "    if action_label == \"UP\":\n",
    "      next_y = y - 1 if y > 0 else y \n",
    "      next_x = x\n",
    "    elif action_label == \"DOWN\":\n",
    "      next_y = y + 1 if y < (grid_dims[0]-1) else y \n",
    "      next_x = x\n",
    "    elif action_label == \"LEFT\":\n",
    "      next_x = x - 1 if x > 0 else x \n",
    "      next_y = y\n",
    "    elif action_label == \"RIGHT\":\n",
    "      next_x = x + 1 if x < (grid_dims[1]-1) else x \n",
    "      next_y = y\n",
    "    elif action_label == \"STAY\":\n",
    "      next_x = x\n",
    "      next_y = y\n",
    "\n",
    "    new_location = (next_y, next_x)\n",
    "    next_state = loc_list.index(new_location)\n",
    "    B[0][next_state, curr_state, action_id] = 1.0\n",
    "\n",
    "B[1][:,:,0] = np.eye(num_states[1])\n",
    "B[2][:,:,0] = np.eye(num_states[2])\n"
   ]
  },
  {
   "cell_type": "code",
   "execution_count": 5,
   "metadata": {},
   "outputs": [],
   "source": [
    "# C vector\n",
    "C = utils.obj_array_zeros(num_obs)\n",
    "\n",
    "C[3][1] = 2.0\n",
    "C[3][2] = -4.0"
   ]
  },
  {
   "cell_type": "code",
   "execution_count": 6,
   "metadata": {},
   "outputs": [],
   "source": [
    "# D vector\n",
    "D = utils.obj_array_uniform(num_states)\n",
    "D[0] = utils.onehot(loc_list.index((2,2)), num_grid_points)"
   ]
  },
  {
   "cell_type": "code",
   "execution_count": 7,
   "metadata": {},
   "outputs": [
    {
     "name": "stdout",
     "output_type": "stream",
     "text": [
      "Starting location is (4, 0), Reward condition is TOP, cue is located in Cue 1\n"
     ]
    }
   ],
   "source": [
    "class GridWorldEnv():\n",
    "    \n",
    "    def __init__(self,starting_loc = (4,0), cue1_loc = (2, 0), cue2 = 'Cue 1', reward_condition = 'TOP'):\n",
    "\n",
    "        self.init_loc = starting_loc\n",
    "        self.current_location = self.init_loc\n",
    "\n",
    "        self.cue1_loc = cue1_loc\n",
    "        self.cue2_name = cue2\n",
    "        self.cue2_loc_names = ['Cue 1', 'Cue 2', 'Cue 3', 'Cue 4']\n",
    "        self.cue2_loc = cue2_locations[self.cue2_loc_names.index(self.cue2_name)]\n",
    "\n",
    "        self.reward_condition = reward_condition\n",
    "        print(f'Starting location is {self.init_loc}, Reward condition is {self.reward_condition}, cue is located in {self.cue2_name}')\n",
    "    \n",
    "    def step(self,action_label):\n",
    "\n",
    "        (Y, X) = self.current_location\n",
    "\n",
    "        if action_label == \"UP\": \n",
    "          \n",
    "          Y_new = Y - 1 if Y > 0 else Y\n",
    "          X_new = X\n",
    "\n",
    "        elif action_label == \"DOWN\": \n",
    "\n",
    "          Y_new = Y + 1 if Y < (grid_dims[0]-1) else Y\n",
    "          X_new = X\n",
    "\n",
    "        elif action_label == \"LEFT\": \n",
    "          Y_new = Y\n",
    "          X_new = X - 1 if X > 0 else X\n",
    "\n",
    "        elif action_label == \"RIGHT\": \n",
    "          Y_new = Y\n",
    "          X_new = X +1 if X < (grid_dims[1]-1) else X\n",
    "\n",
    "        elif action_label == \"STAY\":\n",
    "          Y_new, X_new = Y, X \n",
    "        \n",
    "        self.current_location = (Y_new, X_new) # store the new grid location\n",
    "\n",
    "        loc_obs = self.current_location # agent always directly observes the grid location they're in \n",
    "\n",
    "        if self.current_location == self.cue1_loc:\n",
    "          cue1_obs = self.cue2_name\n",
    "        else:\n",
    "          cue1_obs = 'Null'\n",
    "\n",
    "        if self.current_location == self.cue2_loc:\n",
    "          cue2_obs = cue2_names[reward_conditions.index(self.reward_condition)+1]\n",
    "        else:\n",
    "          cue2_obs = 'Null'\n",
    "        \n",
    "        if self.current_location == reward_locations[0]:\n",
    "          if self.reward_condition == 'TOP':\n",
    "            reward_obs = '+5'\n",
    "          else:\n",
    "            reward_obs = '-10'\n",
    "        elif self.current_location == reward_locations[1]:\n",
    "          if self.reward_condition == 'BOTTOM':\n",
    "            reward_obs = '+5'\n",
    "          else:\n",
    "            reward_obs = '-10'\n",
    "        else:\n",
    "          reward_obs = 'Null'\n",
    "\n",
    "        return loc_obs, cue1_obs, cue2_obs, reward_obs\n",
    "\n",
    "    def reset(self):\n",
    "        self.current_location = self.init_loc\n",
    "        print(f'Re-initialized location to {self.init_loc}')\n",
    "        loc_obs = self.current_location\n",
    "        cue1_obs = 'Null'\n",
    "        cue2_obs = 'Null'\n",
    "        reward_obs = 'Null'\n",
    "\n",
    "        return loc_obs, cue1_obs, cue2_obs, reward_obs\n",
    "    \n",
    "env = GridWorldEnv()"
   ]
  },
  {
   "cell_type": "code",
   "execution_count": 8,
   "metadata": {},
   "outputs": [],
   "source": [
    "my_agent = Agent(A = A, B = B, C = C, D = D, policy_len = 4)"
   ]
  },
  {
   "cell_type": "code",
   "execution_count": 9,
   "metadata": {},
   "outputs": [
    {
     "name": "stdout",
     "output_type": "stream",
     "text": [
      "Starting location is (2, 2), Reward condition is TOP, cue is located in Cue 3\n",
      "Re-initialized location to (2, 2)\n",
      "Location at time 1: (2, 1)\n",
      "Cue1 observation at time 1: Null\n",
      "Cue2 observation at time 1: Null\n",
      "Reward at time 1: Null\n",
      "Location at time 2: (2, 0)\n",
      "Cue1 observation at time 2: Cue 3\n",
      "Cue2 observation at time 2: Null\n",
      "Reward at time 2: Null\n",
      "Location at time 3: (2, 1)\n",
      "Cue1 observation at time 3: Null\n",
      "Cue2 observation at time 3: Null\n",
      "Reward at time 3: Null\n",
      "Location at time 4: (2, 2)\n",
      "Cue1 observation at time 4: Null\n",
      "Cue2 observation at time 4: Null\n",
      "Reward at time 4: Null\n",
      "Location at time 5: (3, 2)\n",
      "Cue1 observation at time 5: Null\n",
      "Cue2 observation at time 5: Null\n",
      "Reward at time 5: Null\n",
      "Location at time 6: (3, 3)\n",
      "Cue1 observation at time 6: Null\n",
      "Cue2 observation at time 6: reward_on_top\n",
      "Reward at time 6: Null\n",
      "Location at time 7: (2, 3)\n",
      "Cue1 observation at time 7: Null\n",
      "Cue2 observation at time 7: Null\n",
      "Reward at time 7: Null\n",
      "Location at time 8: (2, 4)\n",
      "Cue1 observation at time 8: Null\n",
      "Cue2 observation at time 8: Null\n",
      "Reward at time 8: Null\n",
      "Location at time 9: (1, 4)\n",
      "Cue1 observation at time 9: Null\n",
      "Cue2 observation at time 9: Null\n",
      "Reward at time 9: Null\n",
      "Location at time 10: (1, 5)\n",
      "Cue1 observation at time 10: Null\n",
      "Cue2 observation at time 10: Null\n",
      "Reward at time 10: +5\n"
     ]
    }
   ],
   "source": [
    "my_env = GridWorldEnv(starting_loc = (2,2), cue1_loc = (2, 0), cue2 = 'Cue 3', reward_condition = 'TOP')\n",
    "loc_obs, cue1_obs, cue2_obs, reward_obs = my_env.reset()\n",
    "  \n",
    "history_of_locs = [loc_obs]\n",
    "history_of_beliefs = []\n",
    "obs = [loc_list.index(loc_obs), cue1_names.index(cue1_obs), cue2_names.index(cue2_obs), reward_names.index(reward_obs)]\n",
    "for t in range(10):\n",
    "\n",
    "    qs = my_agent.infer_states(obs)\n",
    "    # print(f'Beliefs about own location at time {t}: {qs[0].round(3)}')\n",
    "    # print(f'Beliefs about cue2 location at time {t}: {qs[1].round(3)}')\n",
    "    # print(f'Beliefs about reward condition at time {t}: {qs[2].round(3)}')\n",
    "\n",
    "    history_of_beliefs.append(qs)\n",
    "\n",
    "    my_agent.infer_policies()\n",
    "    chosen_action_id = my_agent.sample_action()\n",
    "\n",
    "    movement_id = int(chosen_action_id[0])\n",
    "\n",
    "    choice_action = actions[movement_id]\n",
    "\n",
    "    loc_obs, cue1_obs, cue2_obs, reward_obs = my_env.step(choice_action)\n",
    "\n",
    "    obs = [loc_list.index(loc_obs), cue1_names.index(cue1_obs), cue2_names.index(cue2_obs), reward_names.index(reward_obs)]\n",
    "\n",
    "    history_of_locs.append(loc_obs)\n",
    "\n",
    "    print(f'Location at time {t+1}: {loc_obs}')\n",
    "    print(f'Cue1 observation at time {t+1}: {cue1_obs}')\n",
    "    print(f'Cue2 observation at time {t+1}: {cue2_obs}')\n",
    "    print(f'Reward at time {t+1}: {reward_obs}')\n"
   ]
  },
  {
   "cell_type": "code",
   "execution_count": 58,
   "metadata": {},
   "outputs": [
    {
     "name": "stdout",
     "output_type": "stream",
     "text": [
      "[0. 0. 0. 1.]\n",
      "[0.5 0.5]\n"
     ]
    }
   ],
   "source": [
    "print(history_of_beliefs[4][1].round(3))\n",
    "print(history_of_beliefs[4][2].round(3))"
   ]
  },
  {
   "cell_type": "code",
   "execution_count": 47,
   "metadata": {},
   "outputs": [
    {
     "data": {
      "text/plain": [
       "[(2, 2),\n",
       " (2, 1),\n",
       " (2, 0),\n",
       " (2, 1),\n",
       " (2, 2),\n",
       " (3, 2),\n",
       " (3, 3),\n",
       " (2, 3),\n",
       " (2, 4),\n",
       " (1, 4),\n",
       " (1, 5)]"
      ]
     },
     "execution_count": 47,
     "metadata": {},
     "output_type": "execute_result"
    }
   ],
   "source": [
    "history_of_locs"
   ]
  },
  {
   "cell_type": "code",
   "execution_count": 67,
   "metadata": {},
   "outputs": [
    {
     "data": {
      "text/plain": [
       "array([[2, 2],\n",
       "       [2, 1],\n",
       "       [2, 0],\n",
       "       [2, 1],\n",
       "       [2, 2],\n",
       "       [3, 2],\n",
       "       [3, 3],\n",
       "       [2, 3],\n",
       "       [2, 4],\n",
       "       [1, 4],\n",
       "       [1, 5]])"
      ]
     },
     "execution_count": 67,
     "metadata": {},
     "output_type": "execute_result"
    }
   ],
   "source": [
    "np.array(history_of_locs)"
   ]
  },
  {
   "cell_type": "code",
   "execution_count": 76,
   "metadata": {},
   "outputs": [
    {
     "data": {
      "image/png": "[encoded data removed]",
      "text/plain": [
       "<Figure size 1152x720 with 1 Axes>"
      ]
     },
     "metadata": {
      "needs_background": "light"
     },
     "output_type": "display_data"
    }
   ],
   "source": [
    "fig, ax = plt.subplots(figsize=(16, 10))\n",
    "h = sns.heatmap(0.1 + np.zeros(grid_dims), cmap='viridis', vmax=1., vmin=0.0, linewidth = 20.0, cbar=False, ax=ax)\n",
    "\n",
    "img1 = plt.imread('mouse_img.png')\n",
    "im1 = OffsetImage(img1, zoom=0.042)\n",
    "\n",
    "ab1 = AnnotationBbox(im1, (history_of_locs[0][1] - 0.5, history_of_locs[0][0] + 0.5), xycoords='data', frameon=False)\n",
    "an1 = ax.add_artist(ab1)\n",
    "\n",
    "an1.xy = (history_of_locs[1][1] - 0.5, history_of_locs[1][0] + 0.5)\n",
    "an1.xybox = (history_of_locs[1][1] - 0.5, history_of_locs[1][0] + 0.5)\n",
    "\n",
    "def init():\n",
    "    ax.set_xticklabels([])\n",
    "    ax.set_yticklabels([])\n",
    "    sns.despine(top=True, right=True, left=True, bottom=True)\n",
    "    fig.tight_layout()\n",
    "    return h, an1\n",
    "\n",
    "def update(frame):\n",
    "    ydata1, xdata1 = frame\n",
    "    an1.xy = (xdata1 - 0.5, ydata1 + 0.5)\n",
    "    an1.xybox = (xdata1 - 0.5, ydata1 + 0.5)\n",
    "\n",
    "    return h, an1\n",
    "\n",
    "anim = FuncAnimation(fig, update, frames=np.array(history_of_locs[1:]), init_func=init, blit=True)\n",
    "anim.save('demo_icons.gif', writer = 'imagemagick')"
   ]
  },
  {
   "cell_type": "code",
   "execution_count": null,
   "metadata": {},
   "outputs": [],
   "source": [
    "\n",
    "# shape = (n_x, n_y)\n",
    "# loc = np.ravel_multi_index(seek_sequence[0], shape)\n",
    "\n",
    "\n",
    "# frames = np.concatenate([np.array(seek_sequence),\n",
    "#                          np.array(hide_sequence)], -1)\n",
    "\n",
    "# img1 = plt.imread('mouse_img.png')\n",
    "# im1 = OffsetImage(img1, zoom=0.3)\n",
    "\n",
    "# ab1 = AnnotationBbox(im1, (frames[0][1], frames[0][0]), xycoords='data', frameon=False)\n",
    "# an1 = ax.add_artist(ab1)\n",
    "\n",
    "# ab2 = AnnotationBbox(im2, (frames[0][-1], frames[0][-2]), xycoords='data', frameon=False)\n",
    "# an2 = ax.add_artist(ab2)\n",
    "\n",
    "# def init():\n",
    "#     ax.set_xticklabels([])\n",
    "#     ax.set_yticklabels([])\n",
    "#     sns.despine(top=True, right=True, left=True, bottom=True)\n",
    "#     fig.tight_layout()\n",
    "#     return h, an1, an2\n",
    "\n",
    "# def update(frame):\n",
    "#     ydata1, xdata1, ydata2, xdata2 = frame\n",
    "#     an1.xy = (xdata1, ydata1)\n",
    "#     an1.xybox = (xdata1, ydata1)\n",
    "\n",
    "#     an2.xy = (xdata2, ydata2)\n",
    "#     an2.xybox = (xdata2, ydata2)\n",
    "\n",
    "#     loc = np.ravel_multi_index((ydata1, xdata1), shape)\n",
    "#     A = As_h[2][1][..., loc].reshape(n_x, n_y)\n",
    "#     h.set_data(np.where(A == 1, 1, np.nan))\n",
    "\n",
    "#     return h, an1, an2\n",
    "\n",
    "# anim = FuncAnimation(fig, update, frames=frames, init_func=init, blit=True)\n",
    "# anim.save('demo_icons.gif', writer='imagemagick', fps=5)"
   ]
  }
 ],
 "metadata": {
  "interpreter": {
   "hash": "24ee14d9f6452059a99d44b6cbd71d1bb479b0539b0360a6a17428ecea9f0810"
  },
  "kernelspec": {
   "display_name": "Python 3.8.10 64-bit ('pymdp_env2': conda)",
   "language": "python",
   "name": "python3"
  },
  "language_info": {
   "codemirror_mode": {
    "name": "ipython",
    "version": 3
   },
   "file_extension": ".py",
   "mimetype": "text/x-python",
   "name": "python",
   "nbconvert_exporter": "python",
   "pygments_lexer": "ipython3",
   "version": "3.8.10"
  },
  "orig_nbformat": 4
 },
 "nbformat": 4,
 "nbformat_minor": 2
}
