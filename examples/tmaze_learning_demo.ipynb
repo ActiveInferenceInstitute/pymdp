{
 "cells": [
  {
   "cell_type": "markdown",
   "metadata": {},
   "source": [
    "#  Demo: T-Maze Environment + Learning\n",
    "This notebook gives a step-by-step demonstration of active inference and learning using the `Agent()` class of `pymdp` and the `TMazeEnv` environment.\n",
    "\n",
    "For a thorough introduction to the basic `TMazeEnv` used here and active inference _without learning_ in that environment, please see the main `tmaze_demo.ipynb` notebook.\n",
    "\n",
    "In this particular case, we assume that the contingencies describing the 'rules' of the T-Maze are unknown to the agent, and must be learned. This demo therefore requires understanding the distinction between the agent's _generative model_  and the _generative process_ (the actual rules governing world dynamics).\n",
    "\n",
    "'Learning' under active inference corresponds to updating posterior beliefs about the sufficient statistics of distributions that parameterize the so-called 'structure' of the generative model. In the case of the Categorical distributions used to represent beliefs about states and outcomes in the discrete space-and-time MDPs used in `pymdp`, these structural parameters correspond to prior beliefs about the sensory and transition likelihoods and priors (the `A`, `B`, `C`, and `D` arrays) of the generative model. \n",
    "\n",
    "In the following exercise, we consider the case when an active inference agent needs to learn how sensory cues (the equivalent of a 'conditioned stimulus' or CS in learning theory) indicate the probability of receiving a reward in the two arms of a T-Maze."
   ]
  },
  {
   "cell_type": "markdown",
   "metadata": {},
   "source": [
    "### Imports|\n",
    "\n",
    "First, import `pymdp` and the modules we'll need."
   ]
  },
  {
   "cell_type": "code",
   "execution_count": 4,
   "metadata": {},
   "outputs": [],
   "source": [
    "import os\n",
    "import sys\n",
    "import pathlib\n",
    "import numpy as np\n",
    "import seaborn as sns\n",
    "import matplotlib.pyplot as plt\n",
    "\n",
    "path = pathlib.Path(os.getcwd())\n",
    "module_path = str(path.parent) + '/'\n",
    "sys.path.append(module_path)\n",
    "\n",
    "from pymdp.agent import Agent\n",
    "from pymdp import core\n",
    "from pymdp.distributions import Categorical, Dirichlet\n",
    "from pymdp.envs import TMazeEnvNullOutcome"
   ]
  },
  {
   "cell_type": "markdown",
   "metadata": {},
   "source": [
    "### Auxiliary Functions\n",
    "\n",
    "Define some utility functions that will be helpful for plotting."
   ]
  },
  {
   "cell_type": "code",
   "execution_count": 8,
   "metadata": {},
   "outputs": [],
   "source": [
    "def plot_beliefs(belief_dist, title=\"\"):\n",
    "    values = belief_dist.values[:, 0]\n",
    "    plt.grid(zorder=0)\n",
    "    plt.bar(range(belief_dist.shape[0]), values, color='r', zorder=3)\n",
    "    plt.xticks(range(belief_dist.shape[0]))\n",
    "    plt.title(title)\n",
    "    plt.show()\n",
    "    \n",
    "def plot_likelihood(A, title=\"\"):\n",
    "    ax = sns.heatmap(A.values, cmap=\"OrRd\", linewidth=2.5)\n",
    "    plt.xticks(range(A.shape[1]))\n",
    "    plt.yticks(range(A.shape[0]))\n",
    "    plt.title(title)\n",
    "    plt.show()"
   ]
  },
  {
   "cell_type": "code",
   "execution_count": 9,
   "metadata": {},
   "outputs": [],
   "source": [
    "reward_probabilities = [0.7, 0.3] # the 'true' reward probabilities \n",
    "env = TMazeEnvNullOutcome(reward_probs = reward_probabilities)\n",
    "A_gp = env.get_likelihood_dist()\n",
    "B_gp = env.get_transition_dist()"
   ]
  },
  {
   "cell_type": "code",
   "execution_count": 10,
   "metadata": {},
   "outputs": [],
   "source": [
    "def construct_dirichlet(template_categorical, prior_scale=1.0):\n",
    "    \"\"\"\n",
    "    Helper function to construct a Dirichlet distribution based on an existing Categorical distribution\n",
    "    \"\"\"\n",
    "    \n",
    "    if template_categorical.n_arrays > 1:\n",
    "        dirichlet_values = np.empty(template_categorical.n_arrays, dtype=object)\n",
    "        for arr_id in range(template_categorical.n_arrays):\n",
    "            dirichlet_values[arr_id] = prior_scale * template_categorical[arr_id].values\n",
    "        return Dirichlet(values = dirichlet_values)\n",
    "    else:\n",
    "        return Dirichlet(values = prior_scale * template_categorical.values)"
   ]
  },
  {
   "cell_type": "code",
   "execution_count": 11,
   "metadata": {},
   "outputs": [],
   "source": [
    "pA = construct_dirichlet(A_gp, prior_scale = 1e16)\n",
    "\n",
    "reward_modality = pA[1].values.copy()\n",
    "reward_modality[:,1:3,:] = 1.0\n",
    "\n",
    "pA[1] = reward_modality\n",
    "\n",
    "cue_modality = pA[2].values.copy()\n",
    "cue_modality[2,-1,0] = 3.0\n",
    "cue_modality[1,-1,0] = 2.0\n",
    "\n",
    "cue_modality[2,-1,1] = 2.0\n",
    "cue_modality[1,-1,1] = 3.0\n",
    "\n",
    "pA[2] = cue_modality\n",
    "\n",
    "A_gm = pA.mean()        "
   ]
  },
  {
   "cell_type": "code",
   "execution_count": 12,
   "metadata": {
    "scrolled": true
   },
   "outputs": [
    {
     "data": {
      "image/png": "[encoded data removed]",
      "text/plain": [
       "<Figure size 432x288 with 2 Axes>"
      ]
     },
     "metadata": {
      "needs_background": "light"
     },
     "output_type": "display_data"
    }
   ],
   "source": [
    "plot_likelihood(A_gm[1][:,:,0],'Initial beliefs about reward mapping')"
   ]
  },
  {
   "cell_type": "code",
   "execution_count": 13,
   "metadata": {},
   "outputs": [
    {
     "data": {
      "image/png": "[encoded data removed]",
      "text/plain": [
       "<Figure size 432x288 with 2 Axes>"
      ]
     },
     "metadata": {
      "needs_background": "light"
     },
     "output_type": "display_data"
    }
   ],
   "source": [
    "plot_likelihood(A_gm[2][:,:,1],'Initial beliefs about cue mapping')"
   ]
  },
  {
   "cell_type": "code",
   "execution_count": 14,
   "metadata": {},
   "outputs": [],
   "source": [
    "B_gm = B_gp.copy()"
   ]
  },
  {
   "cell_type": "code",
   "execution_count": 15,
   "metadata": {},
   "outputs": [],
   "source": [
    "controllable_indices = [0] # this is a list of the indices of the hidden state factors that are controllable\n",
    "learnable_modalities = [1,2]"
   ]
  },
  {
   "cell_type": "code",
   "execution_count": 16,
   "metadata": {},
   "outputs": [],
   "source": [
    "agent = Agent(A=A_gm,pA=pA,B=B_gm,\n",
    "              control_fac_idx=controllable_indices,\n",
    "              modalities_to_learn=learnable_modalities,\n",
    "              lr_pA = 0.25,\n",
    "              use_param_info_gain=True)"
   ]
  },
  {
   "cell_type": "code",
   "execution_count": 17,
   "metadata": {},
   "outputs": [],
   "source": [
    "agent.D[0] = np.eye(agent.n_states[0])[0]"
   ]
  },
  {
   "cell_type": "code",
   "execution_count": 18,
   "metadata": {},
   "outputs": [],
   "source": [
    "agent.C[1][1] = 2.0\n",
    "agent.C[1][2] = -2.0"
   ]
  },
  {
   "cell_type": "code",
   "execution_count": 19,
   "metadata": {},
   "outputs": [
    {
     "name": "stdout",
     "output_type": "stream",
     "text": [
      " === Starting experiment === \n",
      " Reward condition: Right, Observation: [CENTER, No reward, Null]\n",
      "[Step 0] Action: [Move to RIGHT ARM]\n",
      "[Step 0] Observation: [RIGHT ARM,  Reward!, Null]\n",
      "[Step 1] Action: [Move to LEFT ARM]\n",
      "[Step 1] Observation: [LEFT ARM,  Reward!, Null]\n",
      "[Step 2] Action: [Move to RIGHT ARM]\n",
      "[Step 2] Observation: [RIGHT ARM,  Reward!, Null]\n",
      "[Step 3] Action: [Move to RIGHT ARM]\n",
      "[Step 3] Observation: [RIGHT ARM,  Loss!, Null]\n",
      "[Step 4] Action: [Move to LEFT ARM]\n",
      "[Step 4] Observation: [LEFT ARM,  Reward!, Null]\n",
      "[Step 5] Action: [Move to LEFT ARM]\n",
      "[Step 5] Observation: [LEFT ARM,  Reward!, Null]\n",
      "[Step 6] Action: [Move to LEFT ARM]\n",
      "[Step 6] Observation: [LEFT ARM,  Reward!, Null]\n",
      "[Step 7] Action: [Move to LEFT ARM]\n",
      "[Step 7] Observation: [LEFT ARM,  Reward!, Null]\n",
      "[Step 8] Action: [Move to LEFT ARM]\n",
      "[Step 8] Observation: [LEFT ARM,  Reward!, Null]\n",
      "[Step 9] Action: [Move to LEFT ARM]\n",
      "[Step 9] Observation: [LEFT ARM,  Reward!, Null]\n",
      "[Step 10] Action: [Move to LEFT ARM]\n",
      "[Step 10] Observation: [LEFT ARM,  Reward!, Null]\n",
      "[Step 11] Action: [Move to LEFT ARM]\n",
      "[Step 11] Observation: [LEFT ARM,  Loss!, Null]\n",
      "[Step 12] Action: [Move to LEFT ARM]\n",
      "[Step 12] Observation: [LEFT ARM,  Reward!, Null]\n",
      "[Step 13] Action: [Move to LEFT ARM]\n",
      "[Step 13] Observation: [LEFT ARM,  Reward!, Null]\n",
      "[Step 14] Action: [Move to LEFT ARM]\n",
      "[Step 14] Observation: [LEFT ARM,  Loss!, Null]\n",
      "[Step 15] Action: [Move to LEFT ARM]\n",
      "[Step 15] Observation: [LEFT ARM,  Reward!, Null]\n",
      "[Step 16] Action: [Move to LEFT ARM]\n",
      "[Step 16] Observation: [LEFT ARM,  Reward!, Null]\n",
      "[Step 17] Action: [Move to LEFT ARM]\n",
      "[Step 17] Observation: [LEFT ARM,  Reward!, Null]\n",
      "[Step 18] Action: [Move to LEFT ARM]\n",
      "[Step 18] Observation: [LEFT ARM,  Reward!, Null]\n",
      "[Step 19] Action: [Move to LEFT ARM]\n",
      "[Step 19] Observation: [LEFT ARM,  Reward!, Null]\n",
      "[Step 20] Action: [Move to LEFT ARM]\n",
      "[Step 20] Observation: [LEFT ARM,  Reward!, Null]\n",
      "[Step 21] Action: [Move to LEFT ARM]\n",
      "[Step 21] Observation: [LEFT ARM,  Reward!, Null]\n",
      "[Step 22] Action: [Move to LEFT ARM]\n",
      "[Step 22] Observation: [LEFT ARM,  Loss!, Null]\n",
      "[Step 23] Action: [Move to LEFT ARM]\n",
      "[Step 23] Observation: [LEFT ARM,  Reward!, Null]\n",
      "[Step 24] Action: [Move to LEFT ARM]\n",
      "[Step 24] Observation: [LEFT ARM,  Reward!, Null]\n",
      "[Step 25] Action: [Move to LEFT ARM]"
     ]
    },
    {
     "name": "stderr",
     "output_type": "stream",
     "text": [
      "/Users/conor/pymdp/pymdp/distributions/categorical.py:371: UserWarning: You have called :log: on a Categorical that contains zeros.                      We have removed zeros by adding a small non-negative scalar to each value.\n",
      "  We have removed zeros by adding a small non-negative scalar to each value.\"\n"
     ]
    },
    {
     "name": "stdout",
     "output_type": "stream",
     "text": [
      "\n",
      "[Step 25] Observation: [LEFT ARM,  Reward!, Null]\n",
      "[Step 26] Action: [Move to LEFT ARM]\n",
      "[Step 26] Observation: [LEFT ARM,  Loss!, Null]\n",
      "[Step 27] Action: [Move to LEFT ARM]\n",
      "[Step 27] Observation: [LEFT ARM,  Reward!, Null]\n",
      "[Step 28] Action: [Move to LEFT ARM]\n",
      "[Step 28] Observation: [LEFT ARM,  Reward!, Null]\n",
      "[Step 29] Action: [Move to LEFT ARM]\n",
      "[Step 29] Observation: [LEFT ARM,  Loss!, Null]\n",
      "[Step 30] Action: [Move to LEFT ARM]\n",
      "[Step 30] Observation: [LEFT ARM,  Reward!, Null]\n",
      "[Step 31] Action: [Move to LEFT ARM]\n",
      "[Step 31] Observation: [LEFT ARM,  Reward!, Null]\n",
      "[Step 32] Action: [Move to LEFT ARM]\n",
      "[Step 32] Observation: [LEFT ARM,  Reward!, Null]\n",
      "[Step 33] Action: [Move to LEFT ARM]\n",
      "[Step 33] Observation: [LEFT ARM,  Reward!, Null]\n",
      "[Step 34] Action: [Move to LEFT ARM]\n",
      "[Step 34] Observation: [LEFT ARM,  Reward!, Null]\n",
      "[Step 35] Action: [Move to LEFT ARM]\n",
      "[Step 35] Observation: [LEFT ARM,  Reward!, Null]\n",
      "[Step 36] Action: [Move to LEFT ARM]\n",
      "[Step 36] Observation: [LEFT ARM,  Loss!, Null]\n",
      "[Step 37] Action: [Move to LEFT ARM]\n",
      "[Step 37] Observation: [LEFT ARM,  Reward!, Null]\n",
      "[Step 38] Action: [Move to LEFT ARM]\n",
      "[Step 38] Observation: [LEFT ARM,  Loss!, Null]\n",
      "[Step 39] Action: [Move to LEFT ARM]\n",
      "[Step 39] Observation: [LEFT ARM,  Reward!, Null]\n",
      "[Step 40] Action: [Move to LEFT ARM]\n",
      "[Step 40] Observation: [LEFT ARM,  Reward!, Null]\n",
      "[Step 41] Action: [Move to LEFT ARM]\n",
      "[Step 41] Observation: [LEFT ARM,  Loss!, Null]\n",
      "[Step 42] Action: [Move to LEFT ARM]\n",
      "[Step 42] Observation: [LEFT ARM,  Loss!, Null]\n",
      "[Step 43] Action: [Move to LEFT ARM]\n",
      "[Step 43] Observation: [LEFT ARM,  Loss!, Null]\n",
      "[Step 44] Action: [Move to LEFT ARM]\n",
      "[Step 44] Observation: [LEFT ARM,  Reward!, Null]\n",
      "[Step 45] Action: [Move to LEFT ARM]\n",
      "[Step 45] Observation: [LEFT ARM,  Loss!, Null]\n",
      "[Step 46] Action: [Move to LEFT ARM]\n",
      "[Step 46] Observation: [LEFT ARM,  Reward!, Null]\n",
      "[Step 47] Action: [Move to LEFT ARM]\n",
      "[Step 47] Observation: [LEFT ARM,  Loss!, Null]\n",
      "[Step 48] Action: [Move to LEFT ARM]\n",
      "[Step 48] Observation: [LEFT ARM,  Reward!, Null]\n",
      "[Step 49] Action: [Move to LEFT ARM]\n",
      "[Step 49] Observation: [LEFT ARM,  Reward!, Null]\n",
      "[Step 50] Action: [Move to LEFT ARM]\n",
      "[Step 50] Observation: [LEFT ARM,  Reward!, Null]\n",
      "[Step 51] Action: [Move to LEFT ARM]\n",
      "[Step 51] Observation: [LEFT ARM,  Reward!, Null]\n",
      "[Step 52] Action: [Move to LEFT ARM]\n",
      "[Step 52] Observation: [LEFT ARM,  Reward!, Null]\n",
      "[Step 53] Action: [Move to LEFT ARM]\n",
      "[Step 53] Observation: [LEFT ARM,  Loss!, Null]\n",
      "[Step 54] Action: [Move to LEFT ARM]\n",
      "[Step 54] Observation: [LEFT ARM,  Reward!, Null]\n",
      "[Step 55] Action: [Move to LEFT ARM]\n",
      "[Step 55] Observation: [LEFT ARM,  Loss!, Null]\n",
      "[Step 56] Action: [Move to LEFT ARM]\n",
      "[Step 56] Observation: [LEFT ARM,  Reward!, Null]\n",
      "[Step 57] Action: [Move to LEFT ARM]\n",
      "[Step 57] Observation: [LEFT ARM,  Reward!, Null]\n",
      "[Step 58] Action: [Move to LEFT ARM]\n",
      "[Step 58] Observation: [LEFT ARM,  Reward!, Null]\n",
      "[Step 59] Action: [Move to LEFT ARM]\n",
      "[Step 59] Observation: [LEFT ARM,  Loss!, Null]\n",
      "[Step 60] Action: [Move to LEFT ARM]\n",
      "[Step 60] Observation: [LEFT ARM,  Reward!, Null]\n",
      "[Step 61] Action: [Move to LEFT ARM]\n",
      "[Step 61] Observation: [LEFT ARM,  Reward!, Null]\n",
      "[Step 62] Action: [Move to LEFT ARM]\n",
      "[Step 62] Observation: [LEFT ARM,  Reward!, Null]\n",
      "[Step 63] Action: [Move to LEFT ARM]\n",
      "[Step 63] Observation: [LEFT ARM,  Loss!, Null]\n",
      "[Step 64] Action: [Move to LEFT ARM]\n",
      "[Step 64] Observation: [LEFT ARM,  Reward!, Null]\n",
      "[Step 65] Action: [Move to LEFT ARM]\n",
      "[Step 65] Observation: [LEFT ARM,  Reward!, Null]\n",
      "[Step 66] Action: [Move to RIGHT ARM]\n",
      "[Step 66] Observation: [RIGHT ARM,  Loss!, Null]\n",
      "[Step 67] Action: [Move to LEFT ARM]\n",
      "[Step 67] Observation: [LEFT ARM,  Loss!, Null]\n",
      "[Step 68] Action: [Move to LEFT ARM]\n",
      "[Step 68] Observation: [LEFT ARM,  Reward!, Null]\n",
      "[Step 69] Action: [Move to LEFT ARM]\n",
      "[Step 69] Observation: [LEFT ARM,  Loss!, Null]\n",
      "[Step 70] Action: [Move to LEFT ARM]\n",
      "[Step 70] Observation: [LEFT ARM,  Reward!, Null]\n",
      "[Step 71] Action: [Move to LEFT ARM]\n",
      "[Step 71] Observation: [LEFT ARM,  Reward!, Null]\n",
      "[Step 72] Action: [Move to LEFT ARM]\n",
      "[Step 72] Observation: [LEFT ARM,  Reward!, Null]\n",
      "[Step 73] Action: [Move to LEFT ARM]\n",
      "[Step 73] Observation: [LEFT ARM,  Reward!, Null]\n",
      "[Step 74] Action: [Move to LEFT ARM]\n",
      "[Step 74] Observation: [LEFT ARM,  Reward!, Null]\n",
      "[Step 75] Action: [Move to LEFT ARM]\n",
      "[Step 75] Observation: [LEFT ARM,  Reward!, Null]\n",
      "[Step 76] Action: [Move to LEFT ARM]\n",
      "[Step 76] Observation: [LEFT ARM,  Reward!, Null]\n",
      "[Step 77] Action: [Move to LEFT ARM]\n",
      "[Step 77] Observation: [LEFT ARM,  Reward!, Null]\n",
      "[Step 78] Action: [Move to LEFT ARM]\n",
      "[Step 78] Observation: [LEFT ARM,  Reward!, Null]\n",
      "[Step 79] Action: [Move to LEFT ARM]\n",
      "[Step 79] Observation: [LEFT ARM,  Loss!, Null]\n",
      "[Step 80] Action: [Move to LEFT ARM]\n",
      "[Step 80] Observation: [LEFT ARM,  Reward!, Null]\n",
      "[Step 81] Action: [Move to LEFT ARM]\n",
      "[Step 81] Observation: [LEFT ARM,  Loss!, Null]\n",
      "[Step 82] Action: [Move to LEFT ARM]\n",
      "[Step 82] Observation: [LEFT ARM,  Reward!, Null]\n",
      "[Step 83] Action: [Move to LEFT ARM]\n",
      "[Step 83] Observation: [LEFT ARM,  Loss!, Null]\n",
      "[Step 84] Action: [Move to LEFT ARM]\n",
      "[Step 84] Observation: [LEFT ARM,  Reward!, Null]\n",
      "[Step 85] Action: [Move to LEFT ARM]\n",
      "[Step 85] Observation: [LEFT ARM,  Reward!, Null]\n",
      "[Step 86] Action: [Move to LEFT ARM]\n",
      "[Step 86] Observation: [LEFT ARM,  Reward!, Null]\n",
      "[Step 87] Action: [Move to LEFT ARM]\n",
      "[Step 87] Observation: [LEFT ARM,  Loss!, Null]\n",
      "[Step 88] Action: [Move to LEFT ARM]\n",
      "[Step 88] Observation: [LEFT ARM,  Reward!, Null]\n",
      "[Step 89] Action: [Move to LEFT ARM]\n",
      "[Step 89] Observation: [LEFT ARM,  Reward!, Null]\n",
      "[Step 90] Action: [Move to LEFT ARM]\n",
      "[Step 90] Observation: [LEFT ARM,  Reward!, Null]\n",
      "[Step 91] Action: [Move to LEFT ARM]\n",
      "[Step 91] Observation: [LEFT ARM,  Reward!, Null]\n",
      "[Step 92] Action: [Move to LEFT ARM]\n",
      "[Step 92] Observation: [LEFT ARM,  Reward!, Null]\n",
      "[Step 93] Action: [Move to LEFT ARM]\n",
      "[Step 93] Observation: [LEFT ARM,  Loss!, Null]\n",
      "[Step 94] Action: [Move to LEFT ARM]\n",
      "[Step 94] Observation: [LEFT ARM,  Loss!, Null]\n",
      "[Step 95] Action: [Move to LEFT ARM]\n",
      "[Step 95] Observation: [LEFT ARM,  Reward!, Null]\n",
      "[Step 96] Action: [Move to LEFT ARM]\n",
      "[Step 96] Observation: [LEFT ARM,  Reward!, Null]\n",
      "[Step 97] Action: [Move to LEFT ARM]\n",
      "[Step 97] Observation: [LEFT ARM,  Loss!, Null]\n",
      "[Step 98] Action: [Move to LEFT ARM]\n",
      "[Step 98] Observation: [LEFT ARM,  Reward!, Null]\n",
      "[Step 99] Action: [Move to LEFT ARM]\n",
      "[Step 99] Observation: [LEFT ARM,  Reward!, Null]\n"
     ]
    }
   ],
   "source": [
    "T = 100 # number of timesteps\n",
    "\n",
    "obs = env.reset() # reset the environment and get an initial observation\n",
    "\n",
    "# these are useful for displaying read-outs during the loop over time\n",
    "reward_conditions = [\"Left\", \"Right\"]\n",
    "location_observations = ['CENTER','RIGHT ARM','LEFT ARM','CUE LOCATION']\n",
    "reward_observations = ['No reward','Reward!','Loss!']\n",
    "cue_observations = ['Null','Cue Right','Cue Left']\n",
    "msg = \"\"\" === Starting experiment === \\n Reward condition: {}, Observation: [{}, {}, {}]\"\"\"\n",
    "print(msg.format(reward_conditions[env.reward_condition], location_observations[obs[0]], reward_observations[obs[1]], cue_observations[obs[2]]))\n",
    "\n",
    "pA_history = []\n",
    "for t in range(T):\n",
    "    \n",
    "    pA_t = agent.update_A(obs)\n",
    "    pA_history.append(pA_t)\n",
    "    \n",
    "    qx = agent.infer_states(obs)\n",
    "\n",
    "    q_pi, efe = agent.infer_policies()\n",
    "\n",
    "    action = agent.sample_action()\n",
    "\n",
    "    msg = \"\"\"[Step {}] Action: [Move to {}]\"\"\"\n",
    "    print(msg.format(t, location_observations[action[0]]))\n",
    "\n",
    "    obs = env.step(action)\n",
    "\n",
    "    msg = \"\"\"[Step {}] Observation: [{},  {}, {}]\"\"\"\n",
    "    print(msg.format(t, location_observations[obs[0]], reward_observations[obs[1]], cue_observations[obs[2]]))"
   ]
  },
  {
   "cell_type": "code",
   "execution_count": 21,
   "metadata": {
    "scrolled": true
   },
   "outputs": [
    {
     "data": {
      "image/png": "[encoded data removed]",
      "text/plain": [
       "<Figure size 432x288 with 2 Axes>"
      ]
     },
     "metadata": {
      "needs_background": "light"
     },
     "output_type": "display_data"
    }
   ],
   "source": [
    "plot_likelihood(agent.A[1][1:,:,0],'Final beliefs about reward contingencies')"
   ]
  },
  {
   "cell_type": "code",
   "execution_count": 22,
   "metadata": {},
   "outputs": [
    {
     "data": {
      "text/plain": [
       "1"
      ]
     },
     "execution_count": 22,
     "metadata": {},
     "output_type": "execute_result"
    }
   ],
   "source": [
    "env.reward_condition"
   ]
  },
  {
   "cell_type": "code",
   "execution_count": 23,
   "metadata": {},
   "outputs": [
    {
     "data": {
      "image/png": "[encoded data removed]",
      "text/plain": [
       "<Figure size 432x288 with 2 Axes>"
      ]
     },
     "metadata": {
      "needs_background": "light"
     },
     "output_type": "display_data"
    }
   ],
   "source": [
    "plot_likelihood(agent.A[2][1:,:,0],'Final beliefs about cue mapping')"
   ]
  }
 ],
 "metadata": {
  "kernelspec": {
   "display_name": "Python 3",
   "language": "python",
   "name": "python3"
  },
  "language_info": {
   "codemirror_mode": {
    "name": "ipython",
    "version": 3
   },
   "file_extension": ".py",
   "mimetype": "text/x-python",
   "name": "python",
   "nbconvert_exporter": "python",
   "pygments_lexer": "ipython3",
   "version": "3.7.3"
  }
 },
 "nbformat": 4,
 "nbformat_minor": 2
}
