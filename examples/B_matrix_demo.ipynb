{
 "cells": [
  {
   "cell_type": "markdown",
   "source": [
    "# Generative Model Demo: Constructing a simple transition model\n",
    "NOTE: THIS IS AN UNFINISHED DEMO (WIP).\n",
    "\n",
    "This demo notebook provides a walk-through of how to build a simple B matrix (or transition likelihood mapping) that encodes an aegnt's beliefs about how hidden states and actions at timestep t 'cause' or probabilistically relate to hidden states at timestep t+1."
   ],
   "metadata": {}
  },
  {
   "cell_type": "markdown",
   "source": [
    "### Imports\n",
    "\n",
    "First, import `pymdp` and the modules we'll need."
   ],
   "metadata": {}
  },
  {
   "cell_type": "code",
   "execution_count": 1,
   "source": [
    "import os\n",
    "import sys\n",
    "import pathlib\n",
    "\n",
    "import numpy as np\n",
    "import itertools\n",
    "import pandas as pd\n",
    "from pandas import ExcelWriter\n",
    "\n",
    "\n",
    "path = pathlib.Path(os.getcwd())\n",
    "module_path = str(path.parent) + '/'\n",
    "sys.path.append(module_path)\n",
    "\n",
    "import pymdp.utils as utils\n",
    "from pymdp.utils import create_B_matrix_stubs, get_model_dimensions_from_labels"
   ],
   "outputs": [],
   "metadata": {}
  },
  {
   "cell_type": "markdown",
   "source": [
    "## The world (as represented by the agent's generative model)\n",
    "\n",
    "### Hidden states\n",
    "\n",
    "We assume the agent's \"represents\" (this should make you think: generative _model_ , not _process_ ) its environment using two latent variables that are statistically independent of one another - we can thus represent them using two _hidden state factors._\n",
    "\n",
    "We refer to these two hidden state factors are `LOCATION` and `BANDIT_STATE`. \n",
    "\n",
    "#### 1. `LOCATION`\n",
    "The first factor is a ternary variable representing the location / playing-state of the agent (which arm of the multi-armed bandit or 'slot machine' am I playing?)\n",
    "\n",
    "#### 2. `BANDIT_STATE`\n",
    "\n",
    "The second factor is a binary variable representing whether the bandit is a \"high reward\" or \"low reward\" bandit.\n",
    "\n",
    "### Control states\n",
    "\n",
    "We assume the agent's \"represents\" (this should make you think: generative _model_ , not _process_ ) its ability to intervene upont the world using two latent variables that interface with the two respective hidden state factors detailed above.\n",
    "\n",
    "We refer to these two _control_ state factors are `ARM_CONTROL` and `BANDIT_STATE_CONTROL`. \n",
    "\n",
    "#### 1. `ARM_CONTROL`\n",
    "The first control factor is a binary variable representing the agent's action, of either playing arm 1 or arm 2 of the 2-armed bandit ( `play_arm1` vs. `play_arm2` )\n",
    "\n",
    "#### 2. `BANDIT_STATE_CONTROL`\n",
    "\n",
    "The second control factor is a trivially 1-dimensional variable (`null`) representing the agent's action of doing nothing to the state of the bandit - this encodes the agent's belief that it cannot control the overall reward state (high reward or low reward) of the two-armed bandit.\n",
    "\n"
   ],
   "metadata": {}
  },
  {
   "cell_type": "code",
   "execution_count": 2,
   "source": [
    "\n",
    "model_labels = {\n",
    "            \"observations\": {\n",
    "                \"reward outcome\": [\n",
    "                    \"win\",\n",
    "                    \"loss\"            \n",
    "                    ]\n",
    "            },\n",
    "            \"states\": {\n",
    "                \"location\": [\"start\", \"arm1\", \"arm2\"],\n",
    "                \"bandit_state\": [\"high_rew\", \"low_rew\"]\n",
    "            },\n",
    "            \"actions\": {\n",
    "                \"arm_control\": [\"play_arm1\", \"play_arm2\"],\n",
    "                \"bandit_state_control\": [\"null\"]\n",
    "            }\n",
    "        }\n",
    "\n",
    "B_stubs = create_B_matrix_stubs(model_labels)"
   ],
   "outputs": [],
   "metadata": {}
  },
  {
   "cell_type": "markdown",
   "source": [
    "### Option 1. After writing the list of empty B matrix stubs to a multi-sheet excel file, fill it out separately (e.g. manually in excel) and then read it back into memory. Remember, these represent the agent's generative model, not the true probabilities that relate states to observations. So you can think of these as the agent's personal/subjective 'assumptions' about how hidden states transition among one another, and how actions condition/influence those transitions."
   ],
   "metadata": {}
  },
  {
   "cell_type": "code",
   "execution_count": 3,
   "source": [
    "xls_dir = 'tmp_dir'\n",
    "if not os.path.exists(xls_dir):\n",
    "    os.mkdir(xls_dir)\n",
    "\n",
    "xls_fpath = os.path.join(xls_dir, 'my_b_matrices.xlsx')\n",
    "\n",
    "with ExcelWriter(xls_fpath) as writer:\n",
    "    for factor_name, B_stub_f in B_stubs.items():\n",
    "        B_stub_f.to_excel(writer,'%s' % factor_name)"
   ],
   "outputs": [],
   "metadata": {}
  },
  {
   "cell_type": "code",
   "execution_count": 4,
   "source": [
    "B_stubs = utils.read_B_matrices(xls_fpath)"
   ],
   "outputs": [],
   "metadata": {}
  },
  {
   "cell_type": "markdown",
   "source": [
    "### Option 2. Fill out the B matrix using the desired probabilities. Remember, these represent the agent's generative model, not the true probabilities that relate states and actions to next-states. So you can think of these as the agent's personal/subjective 'assumptions' about how the world works"
   ],
   "metadata": {}
  },
  {
   "cell_type": "code",
   "execution_count": 5,
   "source": [
    "# B_stubs['location'].loc['arm1',('start', 'play_arm1')] = 1.0\n",
    "# B_stubs['location'].loc['arm1',('arm1', 'play_arm1')] = 1.0\n",
    "# B_stubs['location'].loc['arm1',('arm2', 'play_arm1')] = 1.0\n",
    "\n",
    "# B_stubs['location'].loc['arm2',('start', 'play_arm2')] = 1.0\n",
    "# B_stubs['location'].loc['arm2',('arm1', 'play_arm2')] = 1.0\n",
    "# B_stubs['location'].loc['arm2',('arm2', 'play_arm2')] = 1.0\n",
    "\n",
    "# B_stubs['bandit_state'].loc['high_rew', ('high_rew', 'null')] = 1.0\n",
    "# B_stubs['bandit_state'].loc['low_rew', ('low_rew', 'null')] = 1.0"
   ],
   "outputs": [],
   "metadata": {}
  },
  {
   "cell_type": "markdown",
   "source": [
    "### Now we can use a utility function `convert_stub_to_ndarray` to convert the human-readable A matrix into the multi-dimensional tensor form needed by `pymdp` to achieve things like inference and action selection"
   ],
   "metadata": {}
  },
  {
   "cell_type": "code",
   "execution_count": 6,
   "source": [
    "B = utils.convert_B_stubs_to_ndarray(B_stubs, model_labels)"
   ],
   "outputs": [
    {
     "output_type": "error",
     "ename": "AssertionError",
     "evalue": "B matrix not normalized! Check your initialization....\n",
     "traceback": [
      "\u001b[0;31m---------------------------------------------------------------------------\u001b[0m",
      "\u001b[0;31mAssertionError\u001b[0m                            Traceback (most recent call last)",
      "\u001b[0;32m<ipython-input-6-ca9d68d4e023>\u001b[0m in \u001b[0;36m<module>\u001b[0;34m\u001b[0m\n\u001b[0;32m----> 1\u001b[0;31m \u001b[0mB\u001b[0m \u001b[0;34m=\u001b[0m \u001b[0mutils\u001b[0m\u001b[0;34m.\u001b[0m\u001b[0mconvert_B_stubs_to_ndarray\u001b[0m\u001b[0;34m(\u001b[0m\u001b[0mB_stubs\u001b[0m\u001b[0;34m,\u001b[0m \u001b[0mmodel_labels\u001b[0m\u001b[0;34m)\u001b[0m\u001b[0;34m\u001b[0m\u001b[0;34m\u001b[0m\u001b[0m\n\u001b[0m",
      "\u001b[0;32m~/pymdp/pymdp/core/utils.py\u001b[0m in \u001b[0;36mconvert_B_stubs_to_ndarray\u001b[0;34m(B_stubs, model_labels)\u001b[0m\n\u001b[1;32m    507\u001b[0m \u001b[0;34m\u001b[0m\u001b[0m\n\u001b[1;32m    508\u001b[0m         \u001b[0mB\u001b[0m\u001b[0;34m[\u001b[0m\u001b[0mf\u001b[0m\u001b[0;34m]\u001b[0m \u001b[0;34m=\u001b[0m \u001b[0mB_stubs\u001b[0m\u001b[0;34m[\u001b[0m\u001b[0mfactor_name\u001b[0m\u001b[0;34m]\u001b[0m\u001b[0;34m.\u001b[0m\u001b[0mto_numpy\u001b[0m\u001b[0;34m(\u001b[0m\u001b[0;34m)\u001b[0m\u001b[0;34m.\u001b[0m\u001b[0mreshape\u001b[0m\u001b[0;34m(\u001b[0m\u001b[0mnum_states\u001b[0m\u001b[0;34m[\u001b[0m\u001b[0mf\u001b[0m\u001b[0;34m]\u001b[0m\u001b[0;34m,\u001b[0m \u001b[0mnum_states\u001b[0m\u001b[0;34m[\u001b[0m\u001b[0mf\u001b[0m\u001b[0;34m]\u001b[0m\u001b[0;34m,\u001b[0m \u001b[0mnum_controls\u001b[0m\u001b[0;34m[\u001b[0m\u001b[0mf\u001b[0m\u001b[0;34m]\u001b[0m\u001b[0;34m)\u001b[0m\u001b[0;34m\u001b[0m\u001b[0;34m\u001b[0m\u001b[0m\n\u001b[0;32m--> 509\u001b[0;31m         \u001b[0;32massert\u001b[0m \u001b[0;34m(\u001b[0m\u001b[0mB\u001b[0m\u001b[0;34m[\u001b[0m\u001b[0mf\u001b[0m\u001b[0;34m]\u001b[0m\u001b[0;34m.\u001b[0m\u001b[0msum\u001b[0m\u001b[0;34m(\u001b[0m\u001b[0maxis\u001b[0m\u001b[0;34m=\u001b[0m\u001b[0;36m0\u001b[0m\u001b[0;34m)\u001b[0m \u001b[0;34m==\u001b[0m \u001b[0;36m1.0\u001b[0m\u001b[0;34m)\u001b[0m\u001b[0;34m.\u001b[0m\u001b[0mall\u001b[0m\u001b[0;34m(\u001b[0m\u001b[0;34m)\u001b[0m\u001b[0;34m,\u001b[0m \u001b[0;34m'B matrix not normalized! Check your initialization....\\n'\u001b[0m\u001b[0;34m\u001b[0m\u001b[0;34m\u001b[0m\u001b[0m\n\u001b[0m\u001b[1;32m    510\u001b[0m \u001b[0;34m\u001b[0m\u001b[0m\n\u001b[1;32m    511\u001b[0m     \u001b[0;32mreturn\u001b[0m \u001b[0mB\u001b[0m\u001b[0;34m\u001b[0m\u001b[0;34m\u001b[0m\u001b[0m\n",
      "\u001b[0;31mAssertionError\u001b[0m: B matrix not normalized! Check your initialization....\n"
     ]
    }
   ],
   "metadata": {}
  }
 ],
 "metadata": {
  "kernelspec": {
   "name": "python3",
   "display_name": "Python 3.7.10 64-bit ('pymdp_env': conda)"
  },
  "language_info": {
   "codemirror_mode": {
    "name": "ipython",
    "version": 3
   },
   "file_extension": ".py",
   "mimetype": "text/x-python",
   "name": "python",
   "nbconvert_exporter": "python",
   "pygments_lexer": "ipython3",
   "version": "3.7.10"
  },
  "interpreter": {
   "hash": "4144ffdb2ef81a5a74efd1d0bf9253d3fe81ec80475fd1008a839668d590b806"
  }
 },
 "nbformat": 4,
 "nbformat_minor": 2
}