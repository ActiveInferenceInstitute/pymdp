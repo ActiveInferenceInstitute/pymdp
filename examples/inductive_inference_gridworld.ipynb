{
 "cells": [
  {
   "cell_type": "markdown",
   "metadata": {},
   "source": [
    "### Imports"
   ]
  },
  {
   "cell_type": "code",
   "execution_count": 1,
   "metadata": {},
   "outputs": [],
   "source": [
    "import jax.numpy as jnp\n",
    "import jax.tree_util as jtu\n",
    "from jax import nn, vmap, random, lax\n",
    "from typing import List, Optional\n",
    "from jaxtyping import Array\n",
    "from jax import random as jr\n",
    "import matplotlib.pyplot as plt\n",
    "import numpy as np\n",
    "\n",
    "from pymdp.envs import GridWorldEnv\n",
    "from pymdp.jax import control as j_control"
   ]
  },
  {
   "cell_type": "markdown",
   "metadata": {},
   "source": [
    "### Grid world generative model"
   ]
  },
  {
   "cell_type": "code",
   "execution_count": 2,
   "metadata": {},
   "outputs": [],
   "source": [
    "num_rows, num_columns = 7, 7\n",
    "num_states = [num_rows*num_columns] # number of states equals the number of grid locations\n",
    "num_obs = [num_rows*num_columns]    # number of observations equals the number of grid locations (fully observable)\n",
    "\n",
    "# construct A arrays\n",
    "A = [jnp.eye(num_states[0])]\n",
    "A_dependencies = [[0]]\n",
    "\n",
    "# construct B arrays\n",
    "grid_world = GridWorldEnv(shape=[num_rows, num_columns])\n",
    "B = [jnp.array(grid_world.get_transition_dist())]  # easy way to get the generative model parameters is to extract them from one of pre-made GridWorldEnv classes\n",
    "B_dependencies = [[0]]\n",
    "num_controls = [grid_world.n_control] # number of control states equals the number of actions\n",
    " \n",
    "# create mapping from gridworld coordinates to linearly-index states\n",
    "grid = np.arange(grid_world.n_states).reshape(grid_world.shape)\n",
    "it = np.nditer(grid, flags=[\"multi_index\"])\n",
    "coord_to_idx_map = {}\n",
    "while not it.finished:\n",
    "    coord_to_idx_map[it.multi_index] = it.iterindex\n",
    "    it.iternext()\n",
    "\n",
    "# construct C arrays\n",
    "desired_position = (6,6) # lower corner\n",
    "desired_state_id = coord_to_idx_map[desired_position]\n",
    "desired_obs_id = jnp.argmax(A[0][:, desired_state_id]) # throw this in there, in case there is some indeterminism between states and observations\n",
    "C = [nn.one_hot(desired_obs_id, num_obs[0])]\n",
    "\n",
    "# construct D arrays\n",
    "starting_position = (3, 3) # middle\n",
    "# starting_position = (0, 0) # upper left corner\n",
    "starting_state_id = coord_to_idx_map[starting_position]\n",
    "starting_obs_id = jnp.argmax(A[0][:, starting_state_id]) # throw this in there, in case there is some indeterminism between states and observations\n",
    "D = [nn.one_hot(starting_state_id, num_states[0])]"
   ]
  },
  {
   "cell_type": "markdown",
   "metadata": {},
   "source": [
    "### Planning parameters"
   ]
  },
  {
   "cell_type": "code",
   "execution_count": 3,
   "metadata": {},
   "outputs": [],
   "source": [
    "planning_horizon, inductive_threshold = 1, 0.1\n",
    "inductive_depth = 7\n",
    "policy_matrix = j_control.construct_policies(num_states, num_controls, policy_len=planning_horizon)\n",
    "\n",
    "# inductive planning goal states\n",
    "H = [nn.one_hot(desired_state_id, num_states[0])]\n",
    "\n",
    "# depth and threshold for inductive planning algorithm. I made policy-depth equal to inductive planning depth, out of ignorance -- need to ask Tim or Tommaso about this\n",
    "I = j_control.generate_I_matrix(H, B, inductive_threshold, inductive_depth)"
   ]
  },
  {
   "cell_type": "markdown",
   "metadata": {},
   "source": [
    "### Run active inference"
   ]
  },
  {
   "cell_type": "code",
   "execution_count": 4,
   "metadata": {},
   "outputs": [
    {
     "name": "stdout",
     "output_type": "stream",
     "text": [
      "Grid position at time 0: (3, 3)\n",
      "Grid position at time 1: (3, 4)\n",
      "Grid position at time 2: (3, 5)\n",
      "Grid position at time 3: (3, 6)\n",
      "Grid position at time 4: (4, 6)\n",
      "Grid position at time 5: (5, 6)\n",
      "Grid position at time 6: (6, 6)\n"
     ]
    }
   ],
   "source": [
    "# T = 14 # needed if you start further away from the goal (e.g. in upper left corner)\n",
    "T = 7 # can get away with fewer timesteps if you start closer to the goal (e.g. in the middle)\n",
    "\n",
    "qs_init = [nn.one_hot(starting_state_id, num_states[0])] # same as D\n",
    "obs = nn.one_hot(starting_obs_id, num_obs[0])\n",
    "state = starting_state_id\n",
    "\n",
    "for t in range(T):\n",
    "\n",
    "    print('Grid position at time {}: {}'.format(t, np.unravel_index(state, grid_world.shape)))\n",
    "\n",
    "    # update posterior beliefs over states\n",
    "    qs = [A[0][jnp.argmax(obs),:]] # trivial inference step\n",
    "\n",
    "    # evaluate Q(pi) and negative EFE using the inductive planning algorithm\n",
    "    q_pi, neg_efe = j_control.update_posterior_policies_inductive(policy_matrix, qs, A, B, C, A_dependencies, B_dependencies, I, gamma=16.0, use_utility=True, use_inductive=True, inductive_epsilon=1e-3)\n",
    "\n",
    "    # select action\n",
    "    action = jnp.argmax(q_pi)\n",
    "\n",
    "    # use action to affect environment\n",
    "    state = jnp.argmax(B[0][:,state,action])\n",
    "    obs = nn.one_hot(jnp.argmax(A[0][:,state]), num_obs[0])\n"
   ]
  }
 ],
 "metadata": {
  "kernelspec": {
   "display_name": "atari_env",
   "language": "python",
   "name": "python3"
  },
  "language_info": {
   "codemirror_mode": {
    "name": "ipython",
    "version": 3
   },
   "file_extension": ".py",
   "mimetype": "text/x-python",
   "name": "python",
   "nbconvert_exporter": "python",
   "pygments_lexer": "ipython3",
   "version": "3.11.5"
  }
 },
 "nbformat": 4,
 "nbformat_minor": 2
}
