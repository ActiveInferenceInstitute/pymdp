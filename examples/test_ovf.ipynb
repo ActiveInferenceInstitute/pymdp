{
 "cells": [
  {
   "cell_type": "code",
   "execution_count": 1,
   "metadata": {},
   "outputs": [],
   "source": [
    "import numpy as np \n",
    "import jax.numpy as jnp\n",
    "import jax.tree_util as jtu\n",
    "\n",
    "from jax import nn, vmap\n",
    "from pymdp.jax.algos import update_variational_filtering\n",
    "from pymdp import utils"
   ]
  },
  {
   "cell_type": "code",
   "execution_count": 2,
   "metadata": {},
   "outputs": [],
   "source": [
    "num_states_list = [ \n",
    "                    [2, 2, 5],\n",
    "                    [2, 2, 2],\n",
    "                    [4, 4]\n",
    "]\n",
    "\n",
    "num_controls_list = [\n",
    "                    [2, 1, 3],\n",
    "                    [2, 1, 2],\n",
    "                    [1, 3]\n",
    "]\n",
    "\n",
    "num_obs_list = [\n",
    "                [5, 10],\n",
    "                [4, 3, 2],\n",
    "                [5, 2, 6, 3]\n",
    "]\n",
    "\n",
    "A_dependencies_list = [\n",
    "                    [[0, 1], [1, 2]],\n",
    "                    [[0], [1], [2]],\n",
    "                    [[0,1], [1], [0], [1]]\n",
    "]\n",
    "\n",
    "batch_dim, T = 13, 4 # batch dimension (e.g. number of agents, parallel realizations, etc.) and time steps\n",
    "n_policies = 3"
   ]
  },
  {
   "cell_type": "code",
   "execution_count": 3,
   "metadata": {},
   "outputs": [
    {
     "name": "stderr",
     "output_type": "stream",
     "text": [
      "No GPU/TPU found, falling back to CPU. (Set TF_CPP_MIN_LOG_LEVEL=0 and rerun for more info.)\n"
     ]
    },
    {
     "name": "stdout",
     "output_type": "stream",
     "text": [
      "(3, 13, 2) (3, 13, 2) (3, 4, 13, 2, 2)\n",
      "(3, 13, 2) (3, 13, 2) (3, 4, 13, 2, 2)\n",
      "(3, 13, 5) (3, 13, 5) (3, 4, 13, 5, 5)\n",
      "(3, 13, 2) (3, 13, 2) (3, 4, 13, 2, 2)\n",
      "(3, 13, 2) (3, 13, 2) (3, 4, 13, 2, 2)\n",
      "(3, 13, 2) (3, 13, 2) (3, 4, 13, 2, 2)\n",
      "(3, 13, 4) (3, 13, 4) (3, 4, 13, 4, 4)\n",
      "(3, 13, 4) (3, 13, 4) (3, 4, 13, 4, 4)\n"
     ]
    }
   ],
   "source": [
    "for (num_states, A_dependencies, num_controls, num_obs) in zip(num_states_list, A_dependencies_list, num_controls_list, num_obs_list):\n",
    "            \n",
    "    A_reduced_numpy = utils.random_A_matrix(num_obs, num_states, A_factor_list=A_dependencies)\n",
    "    A_reduced = jtu.tree_map(lambda x: jnp.broadcast_to(x, (batch_dim,) + x.shape), list(A_reduced_numpy))\n",
    "          \n",
    "    A_full_numpy = []\n",
    "    for m, no in enumerate(num_obs):\n",
    "        other_factors = list(set(range(len(num_states))) - set(A_dependencies[m])) # list of the factors that modality `m` does not depend on\n",
    "\n",
    "        # broadcast or tile the reduced A matrix (`A_reduced`) along the dimensions of corresponding to `other_factors`\n",
    "        expanded_dims = [no] + [1 if f in other_factors else ns for (f, ns) in enumerate(num_states)]\n",
    "        tile_dims = [1] + [ns if f in other_factors else 1 for (f, ns) in enumerate(num_states)]\n",
    "        A_full_numpy.append(np.tile(A_reduced_numpy[m].reshape(expanded_dims), tile_dims))\n",
    "    \n",
    "    A_full = jtu.tree_map(lambda x: jnp.broadcast_to(x, (batch_dim,) + x.shape), list(A_full_numpy))\n",
    "\n",
    "    B_numpy = utils.random_B_matrix(num_states, num_controls)\n",
    "    B = jtu.tree_map(lambda x: jnp.broadcast_to(x, (batch_dim,) + x.shape), list(B_numpy))\n",
    "\n",
    "    prior_numpy = utils.random_single_categorical(num_states)\n",
    "    prior = jtu.tree_map(lambda x: jnp.broadcast_to(x, (batch_dim,) + x.shape), list(prior_numpy))\n",
    "          \n",
    "    # initialization observation sequences in jax\n",
    "    obs_seq = []\n",
    "    for n_obs in num_obs:\n",
    "        obs_ints = np.random.randint(0, high=n_obs, size=(T,1))\n",
    "        obs_array_mod_i = jnp.broadcast_to(nn.one_hot(obs_ints, num_classes=n_obs), (T, batch_dim, n_obs))\n",
    "        obs_seq.append(obs_array_mod_i)\n",
    "\n",
    "    # create random policies\n",
    "    policies = []\n",
    "    for n_controls in num_controls:\n",
    "        policies.append(jnp.array(np.random.randint(0, high=n_controls, size=(n_policies, T-1))))\n",
    "\n",
    "    def test_sparse(action_sequence):\n",
    "        B_policy = jtu.tree_map(lambda b, a_idx: b[..., a_idx].transpose(3, 0, 1, 2), B, action_sequence)\n",
    "        qs, ps, qss = update_variational_filtering(obs_seq, A_reduced, B_policy, prior, A_dependencies)\n",
    "        return qs, ps, qss\n",
    "\n",
    "    qs_pi, ps_pi, qss_pi = vmap(test_sparse)(policies)\n",
    "\n",
    "    for qs, ps, qss in zip(qs_pi, ps_pi, qss_pi):\n",
    "        print(qs.shape, ps.shape, qss.shape)\n",
    "\n",
    "#Note: qs is of dimension [num_actions x num_agents x dim_state_f] * num_factors\n",
    "#Note: qss is of dimension [num_actions x time_steps x num_agents x dim_state_f x dim_state_f]"
   ]
  },
  {
   "cell_type": "code",
   "execution_count": 4,
   "metadata": {},
   "outputs": [
    {
     "data": {
      "text/plain": [
       "Array([0.10571534, 0.03540028, 0.4963476 , 0.36253685], dtype=float32)"
      ]
     },
     "execution_count": 4,
     "metadata": {},
     "output_type": "execute_result"
    }
   ],
   "source": [
    "qs_pi[0][0, 0]"
   ]
  },
  {
   "cell_type": "code",
   "execution_count": 5,
   "metadata": {},
   "outputs": [
    {
     "data": {
      "text/plain": [
       "Array([[0.6461534 , 0.09652454, 0.22822888, 0.02909314],\n",
       "       [0.33564523, 0.26329154, 0.30335486, 0.09770837],\n",
       "       [0.4735609 , 0.18010727, 0.23158638, 0.11474543],\n",
       "       [0.50991637, 0.20105273, 0.18791321, 0.10111766]], dtype=float32)"
      ]
     },
     "execution_count": 5,
     "metadata": {},
     "output_type": "execute_result"
    }
   ],
   "source": [
    "qss_pi[0][0, 0, 0]"
   ]
  }
 ],
 "metadata": {
  "kernelspec": {
   "display_name": "befit",
   "language": "python",
   "name": "python3"
  },
  "language_info": {
   "codemirror_mode": {
    "name": "ipython",
    "version": 3
   },
   "file_extension": ".py",
   "mimetype": "text/x-python",
   "name": "python",
   "nbconvert_exporter": "python",
   "pygments_lexer": "ipython3",
   "version": "3.11.3"
  },
  "orig_nbformat": 4
 },
 "nbformat": 4,
 "nbformat_minor": 2
}
