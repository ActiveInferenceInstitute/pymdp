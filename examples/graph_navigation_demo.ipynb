{
 "cells": [
  {
   "cell_type": "code",
   "execution_count": 2,
   "source": [
    "import os\n",
    "import sys\n",
    "import pathlib\n",
    "import numpy as np\n",
    "import seaborn as sns\n",
    "import matplotlib.pyplot as plt\n",
    "\n",
    "path = pathlib.Path(os.getcwd())\n",
    "module_path = str(path.parent) + '/'\n",
    "sys.path.append(module_path)\n",
    "\n",
    "from pymdp.agent import Agent\n",
    "from pymdp import utils\n",
    "from pymdp.maths import softmax\n",
    "import copy"
   ],
   "outputs": [],
   "metadata": {}
  },
  {
   "cell_type": "code",
   "execution_count": 5,
   "source": [
    "A_distance = np.ones((3, 5, 5)) / 3.0"
   ],
   "outputs": [],
   "metadata": {}
  },
  {
   "cell_type": "code",
   "execution_count": 6,
   "source": [
    "A_distance[:,0,0] = np.eye(3)[0] # current is location 0, last was location 0, probability of '0 distance traveled' is 100%\n",
    "A_distance[:,1,1] = np.eye(3)[0] # current is location 0, last was location 0, probability of '0 distance traveled' is 100%\n",
    "A_distance[:,2,2] = np.eye(3)[0] # current is location 0, last was location 0, probability of '0 distance traveled' is 100%\n",
    "A_distance[:,3,3] = np.eye(3)[0] # current is location 0, last was location 0, probability of '0 distance traveled' is 100%\n",
    "A_distance[:,4,4] = np.eye(3)[0] # current is location 0, last was location 0, probability of '0 distance traveled' is 100%"
   ],
   "outputs": [],
   "metadata": {}
  },
  {
   "cell_type": "code",
   "execution_count": 7,
   "source": [
    "# Starting location 0\n",
    "\n",
    "# (1, 0) THIS EXISTS\n",
    "# (1, 2) X\n",
    "# (1, 3) X\n",
    "# (1, 4) X\n",
    "\n",
    "A_distance[:,1,0] = np.eye(3)[1] # current is location 1, last location was location 0, probability of '5 units distance traveled' is 100%\n",
    "\n",
    "A_distance[:,4,0] = np.eye(3)[2] # current location is location 4, last location was location 0, probability of '20 units distance traveled' is 100%\n",
    "\n",
    "# starting location 1\n",
    "A_distance[:,2,1] = np.eye(3)[1] # current is location 0, last was location 0, probability of '5 distance traveled' is 100%\n",
    "\n",
    "# Starting location 2\n",
    "A_distance[:,3,2] = np.eye(3)[1] # current is location 0, last was location 0, probability of '5 distance traveled' is 100%\n",
    "\n",
    "# Starting location 4\n",
    "A_distance[:,3,4] = np.eye(3)[1] # current is location 0, last was location 0, probability of '5 distance traveled' is 100%\n"
   ],
   "outputs": [],
   "metadata": {}
  },
  {
   "cell_type": "code",
   "execution_count": 11,
   "source": [
    "observation_names = ['0 distance', '5 distance', '20 distance']"
   ],
   "outputs": [],
   "metadata": {}
  },
  {
   "cell_type": "code",
   "execution_count": 25,
   "source": [
    "curr_loc = 3\n",
    "prev_loc = 4\n",
    "\n",
    "edge_weight = observation_names[np.where(A_distance[:,curr_loc, prev_loc])[0][0]]\n",
    "print(f'Observation given move from {prev_loc} to {curr_loc}: {edge_weight}')"
   ],
   "outputs": [
    {
     "output_type": "stream",
     "name": "stdout",
     "text": [
      "Observation given move from 4 to 3: 5 distance\n"
     ]
    }
   ],
   "metadata": {}
  },
  {
   "cell_type": "code",
   "execution_count": 32,
   "source": [
    "B = utils.obj_array(2)\n",
    "\n",
    "B[0] = np.zeros((5, 5, 5)) # current location\n",
    "\n",
    "B[1] = np.ones((5, 5, 5))  # previous location"
   ],
   "outputs": [],
   "metadata": {}
  },
  {
   "cell_type": "code",
   "execution_count": 36,
   "source": [
    "qs_past = utils.obj_array(2)"
   ],
   "outputs": [],
   "metadata": {}
  },
  {
   "cell_type": "code",
   "execution_count": 37,
   "source": [
    "qs_past[0] = np.eye(5)[2]\n",
    "qs_past[1] = np.eye(5)[1]"
   ],
   "outputs": [],
   "metadata": {}
  },
  {
   "cell_type": "code",
   "execution_count": 39,
   "source": [
    "qs_new = utils.obj_array(2)"
   ],
   "outputs": [],
   "metadata": {}
  },
  {
   "cell_type": "code",
   "execution_count": null,
   "source": [
    "qs_new[0] = np.log(A_proprioception_current[obs_proprio_curr,:]) + np.log(B[0][:,:,last_action].dot(qs_past[0]))\n",
    "qs_new[1] = np.log(A_proprioception_previous[obs_proprio_prev,:]) + np.log(B[1][:,:,0].dot(qs_past[1]))"
   ],
   "outputs": [],
   "metadata": {}
  },
  {
   "cell_type": "markdown",
   "source": [
    "### During policy evaluation / multi-step EFE integration, we need to tie together counterfactual beliefs about current location (imaginations about what my CURRENT location will be at t + tau) to counterfactual beliefs about previous location (imaginations about what my PREVIOUS location will be at t + tau). In order to do that, the idea is that we keep the hidden state factors statistically independent (B[0] does not depend on B[1]), but the space of allowable policies is reduced, such that if you're e.g. moving to Location 1 along hidden state factor 0, you can only move to consistent locations along hidden state factor 1. So like if the action along Hidden state factor 0 (current location) is \"Move to Location 1\", then policies that include that action can only have actions along Hidden state factor 1 (previous location) that are consistent with Location 1 being Current Location. "
   ],
   "metadata": {}
  },
  {
   "cell_type": "markdown",
   "source": [],
   "metadata": {}
  }
 ],
 "metadata": {
  "orig_nbformat": 4,
  "language_info": {
   "name": "python",
   "version": "3.7.10",
   "mimetype": "text/x-python",
   "codemirror_mode": {
    "name": "ipython",
    "version": 3
   },
   "pygments_lexer": "ipython3",
   "nbconvert_exporter": "python",
   "file_extension": ".py"
  },
  "kernelspec": {
   "name": "python3",
   "display_name": "Python 3.7.10 64-bit ('pymdp_env': conda)"
  },
  "interpreter": {
   "hash": "4144ffdb2ef81a5a74efd1d0bf9253d3fe81ec80475fd1008a839668d590b806"
  }
 },
 "nbformat": 4,
 "nbformat_minor": 2
}