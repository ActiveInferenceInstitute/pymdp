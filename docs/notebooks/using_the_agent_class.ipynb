{
  "cells": [
    {
      "cell_type": "markdown",
      "metadata": {},
      "source": [
        "# Tutorial 2:  the `Agent` API\n",
        "\n",
        "[![Open in Colab](https://colab.research.google.com/assets/colab-badge.svg)](https://colab.research.google.com/github/google/jax/blob/main/docs/notebooks/using_the_agent_class.ipynb)\n",
        "\n",
        "*Author: Conor Heins*\n",
        "\n",
        "This tutorial introduces the `Agent` class, the main API offered by `pymdp` that allows you to abstract away all the mathematical nuances involved in running active inference processes. All you have to do is build a generative model in terms of `A`, `B`, `C`, and `D` arrays, plug them into the `Agent()` constructor, and then start running active inference processes using the desired functions of the `Agent` class, like `self.infer_states()` and `self.infer_policies()`. \n",
        "\n",
        "We demonstrate the use of the `Agent` class by building an active inference agent to play a simple explore/exploit task, what we call the \"epistemic 2-armed bandit\""
      ]
    },
    {
      "cell_type": "markdown",
      "metadata": {},
      "source": [
        "### Imports"
      ]
    },
    {
      "cell_type": "code",
      "execution_count": 1,
      "metadata": {
        "id": "hk0kXw1RRmTf"
      },
      "outputs": [],
      "source": [
        "import numpy as np\n",
        "import matplotlib.pyplot as plt\n",
        "import seaborn as sns"
      ]
    },
    {
      "cell_type": "markdown",
      "metadata": {
        "id": "iSS6oO3RWrwp"
      },
      "source": [
        "## Define some **Auxiliary functions**\n",
        "\n",
        "Here are some plotting functions that will come in handy throughout the tutorial."
      ]
    },
    {
      "cell_type": "code",
      "execution_count": 2,
      "metadata": {
        "id": "Y0QiIF8SWxot"
      },
      "outputs": [],
      "source": [
        "def plot_likelihood(matrix, title_str = \"Likelihood distribution (A)\"):\n",
        "    \"\"\"\n",
        "    Plots a 2-D likelihood matrix as a heatmap\n",
        "    \"\"\"\n",
        "\n",
        "    if not np.isclose(matrix.sum(axis=0), 1.0).all():\n",
        "      raise ValueError(\"Distribution not column-normalized! Please normalize (ensure matrix.sum(axis=0) == 1.0 for all columns)\")\n",
        "    \n",
        "    fig = plt.figure(figsize = (6,6))\n",
        "    ax = sns.heatmap(matrix, cmap = 'gray', cbar = False, vmin = 0.0, vmax = 1.0)\n",
        "    plt.title(title_str)\n",
        "    plt.show()\n",
        "\n",
        "\n",
        "def plot_beliefs(belief_dist, title_str=\"\"):\n",
        "    \"\"\"\n",
        "    Plot a categorical distribution or belief distribution, stored in the 1-D numpy vector `belief_dist`\n",
        "    \"\"\"\n",
        "\n",
        "    if not np.isclose(belief_dist.sum(), 1.0):\n",
        "      raise ValueError(\"Distribution not normalized! Please normalize\")\n",
        "\n",
        "    plt.grid(zorder=0)\n",
        "    plt.bar(range(belief_dist.shape[0]), belief_dist, color='r', zorder=3)\n",
        "    plt.xticks(range(belief_dist.shape[0]))\n",
        "    plt.title(title_str)\n",
        "    plt.show()"
      ]
    },
    {
      "cell_type": "markdown",
      "metadata": {
        "id": "qknzxudf593_"
      },
      "source": [
        "## **More complex generative models**\n",
        "\n",
        "In this notebook we will build a more complicated generative model, with the following goals in mind:\n",
        "\n",
        "1. Demonstrate the unique behavior of active inference agents, as opposed to other agent-based approaches to solving POMDPs (e.g. utility-maximization / reinforcement learning)\n",
        "\n",
        "2. Provide a task example that is more relevant to decision-making research and computational psychiatry.\n",
        "\n",
        "3. Take advantage of the functionalities of `pymdp`, especially the `Agent()` class, to abstract away all the mathematical operations involved with inference and planning under active inference.\n",
        "\n",
        "Before we dive into specifying this generative model, we need to talk about _observation modalities_ and _hidden state factors_...\n"
      ]
    },
    {
      "cell_type": "markdown",
      "metadata": {
        "id": "2YQ8gQrdkFE4"
      },
      "source": [
        "The data structure we use in `pymdp` to represent different hidden state factors and observation modalities is the `object array` (referred to in other contexts as 'arrays of arrays' or 'jagged/ragged arrays').\n",
        "\n",
        "They are no different than standard numpy `ndarrays` (they can arbitrarily multidimensional shape), except for the fact that their contents are unrestricted in terms of type. Their `dtype` is `object`, which means that their elements can be any kind of Python data structure -- including other arrays!\n",
        "\n",
        "In case you're coming from a  MATLAB background: these object arrays are the equivalent of cell arrays. \n",
        "\n",
        "In `pymdp`, we represent a multi-factor $\\mathbf{B}$ array as an object array which has as many elements as there are hidden state factors. Therefore, each element `B[i]` of the object array contains the `B` matrix for hidden state factor `i`."
      ]
    },
    {
      "cell_type": "code",
      "execution_count": 3,
      "metadata": {
        "id": "LE3k-jsQKAt3"
      },
      "outputs": [],
      "source": [
        "import pymdp\n",
        "from pymdp import utils"
      ]
    },
    {
      "cell_type": "markdown",
      "metadata": {
        "id": "Mk0dbpXibpP_"
      },
      "source": [
        "## **Explore/exploit task with a epistemic two-armed bandit**\n",
        "\n",
        "Now we're going to build a generative model for an active inference agent playing a two-armed bandit task. The [multi-armed bandit](https://en.wikipedia.org/wiki/Multi-armed_bandit) is a classic decision-making task that captures the core features of the the \"explore/exploit tradeoff\". This problem formulation is ubiqutious across various disciplines that study decision-making under uncertainty, including economics, neuroscience, machine learning, and engineering.\n",
        "\n",
        "The agent has to make choices among mutually exclusive alternatives or 'arms' in order maximize rewards, which issue probabilistically from each arm. However, the reward statistics of each arm are in general unknown or only partially known. The agent must entertain _beliefs_ about the reward statistics. \n",
        "\n",
        "The inherent partial-observability  of the ask creates a conflict between **exploitation** or choosing the arm that is _currently believed_ to be most rewarding, and **exploration** or gathering information about the remaining arms, in the hopes of discovering a potentially more rewarding option.\n",
        "\n",
        "The fact that expected reward or utility is contextualized by _beliefs_ -- i.e. which arm is currently thought to be the most rewarding -- motivates the use of active inference in this context. This is because the key objective function for action-selection, the expected free energy $\\mathbf{G}$, depends on the agent's beliefs about the world. And not only that, but expected free energy balances the desire to maximize rewards with the drive to resolve uncertainty about unknown parts of the agent's model. The more accurate the agent's beliefs are, the more faithfully decision-making can be guided by maximizing expected utility or rewards.\n"
      ]
    },
    {
      "cell_type": "markdown",
      "metadata": {
        "id": "WYTRxlxx4iD0"
      },
      "source": [
        "### Specify the dimensionalities of the hidden state factors, the control factors, and the observation modalities"
      ]
    },
    {
      "cell_type": "code",
      "execution_count": 4,
      "metadata": {
        "id": "vOEYkFPt4gbC"
      },
      "outputs": [],
      "source": [
        "context_names = ['Left-Better', 'Right-Better']\n",
        "choice_names = ['Start', 'Hint', 'Left Arm', 'Right Arm']\n",
        "\n",
        "\"\"\" Define `num_states` and `num_factors` below \"\"\"\n",
        "num_states = [len(context_names), len(choice_names)]\n",
        "num_factors = len(num_states)\n",
        "\n",
        "context_action_names = ['Do-nothing']\n",
        "choice_action_names = ['Move-start', 'Get-hint', 'Play-left', 'Play-right']\n",
        "\n",
        "\"\"\" Define `num_controls` below \"\"\"\n",
        "num_controls = [len(context_action_names), len(choice_action_names)]\n",
        "\n",
        "hint_obs_names = ['Null', 'Hint-left', 'Hint-right']\n",
        "reward_obs_names = ['Null', 'Loss', 'Reward']\n",
        "choice_obs_names = ['Start', 'Hint', 'Left Arm', 'Right Arm']\n",
        "\n",
        "\"\"\" Define `num_obs` and `num_modalities` below \"\"\"\n",
        "num_obs = [len(hint_obs_names), len(reward_obs_names), len(choice_obs_names)]\n",
        "num_modalities = len(num_obs)"
      ]
    },
    {
      "cell_type": "markdown",
      "metadata": {
        "id": "k4Tca2bJ4o0z"
      },
      "source": [
        "### Create the `A` arrays first"
      ]
    },
    {
      "cell_type": "code",
      "execution_count": 5,
      "metadata": {
        "id": "zQsDxB8v6bvF"
      },
      "outputs": [],
      "source": [
        "\"\"\" Generate the A array \"\"\"\n",
        "A = utils.obj_array( num_modalities )"
      ]
    },
    {
      "cell_type": "markdown",
      "metadata": {
        "id": "9Vmy_Z1N6poY"
      },
      "source": [
        "Fill out the hint modality, a sub-array of `A` which we'll call `A_hint`\n",
        "\n",
        "<img src=\"https://drive.google.com/uc?export=view&id=1SqMp77NAmUa_oh925VURJ1Hyp8v_fXOj\"/>\n",
        "\n"
      ]
    },
    {
      "cell_type": "code",
      "execution_count": 6,
      "metadata": {
        "id": "daovgh4A6m5c"
      },
      "outputs": [],
      "source": [
        "p_hint = 0.7 # accuracy of the hint, according to the agent's generative model (how much does the agent trust the hint?)\n",
        "\n",
        "A_hint = np.zeros( (len(hint_obs_names), len(context_names), len(choice_names)) )\n",
        "\n",
        "for choice_id, choice_name in enumerate(choice_names):\n",
        "\n",
        "  if choice_name == 'Start':\n",
        "\n",
        "    A_hint[0,:,choice_id] = 1.0\n",
        "  \n",
        "  elif choice_name == 'Hint':\n",
        "\n",
        "    A_hint[1:,:,choice_id] = np.array([[p_hint,       1.0 - p_hint],\n",
        "                                      [1.0 - p_hint,  p_hint]])\n",
        "  elif choice_name == 'Left Arm':\n",
        "\n",
        "    A_hint[0,:,choice_id] = 1.0\n",
        "  \n",
        "  elif choice_name == 'Right Arm':\n",
        "\n",
        "    A_hint[0,:,choice_id] = 1.0\n",
        "  \n",
        "A[0] = A_hint"
      ]
    },
    {
      "cell_type": "code",
      "execution_count": 7,
      "metadata": {
        "id": "zIWcFelA7RqY"
      },
      "outputs": [
        {
          "data": {
            "image/png": "[encoded data removed]",
            "text/plain": [
              "<Figure size 432x432 with 1 Axes>"
            ]
          },
          "metadata": {
            "needs_background": "light"
          },
          "output_type": "display_data"
        }
      ],
      "source": [
        "plot_likelihood(A[0][:,:,1], title_str = \"Probability of the two hint types, for the two game states\")"
      ]
    },
    {
      "cell_type": "markdown",
      "metadata": {
        "id": "dnVJO-Nn7zY4"
      },
      "source": [
        "Fill out the reward modality, a sub-array of `A` which we'll call `A_rew`\n",
        "\n",
        "<img src=\"https://drive.google.com/uc?export=view&id=155LAPZ9_aulJ3YYZwwlOWrEa6unabHht\"/>"
      ]
    },
    {
      "cell_type": "code",
      "execution_count": 8,
      "metadata": {
        "id": "fVnKm0zU8Ng3"
      },
      "outputs": [],
      "source": [
        "p_reward = 0.8 # probability of getting a rewarding outcome, if you are sampling the more rewarding bandit\n",
        "\n",
        "A_reward = np.zeros((len(reward_obs_names), len(context_names), len(choice_names)))\n",
        "\n",
        "for choice_id, choice_name in enumerate(choice_names):\n",
        "\n",
        "  if choice_name == 'Start':\n",
        "\n",
        "    A_reward[0,:,choice_id] = 1.0\n",
        "  \n",
        "  elif choice_name == 'Hint':\n",
        "\n",
        "    A_reward[0,:,choice_id] = 1.0\n",
        "  \n",
        "  elif choice_name == 'Left Arm':\n",
        "\n",
        "    A_reward[1:,:,choice_id] = np.array([ [1.0-p_reward, p_reward], \n",
        "                                        [p_reward, 1.0-p_reward]])\n",
        "  elif choice_name == 'Right Arm':\n",
        "\n",
        "    A_reward[1:, :, choice_id] = np.array([[ p_reward, 1.0- p_reward], \n",
        "                                         [1- p_reward, p_reward]])\n",
        "  \n",
        "A[1] = A_reward"
      ]
    },
    {
      "cell_type": "code",
      "execution_count": 9,
      "metadata": {
        "id": "CWKQSusN9Jzk"
      },
      "outputs": [
        {
          "data": {
            "image/png": "[encoded data removed]",
            "text/plain": [
              "<Figure size 432x432 with 1 Axes>"
            ]
          },
          "metadata": {
            "needs_background": "light"
          },
          "output_type": "display_data"
        }
      ],
      "source": [
        "plot_likelihood(A[1][:,:,2], 'Payoff structure if playing the Left Arm, for the two contexts')"
      ]
    },
    {
      "cell_type": "markdown",
      "metadata": {
        "id": "g62Zjwg0-iot"
      },
      "source": [
        "### Fill out the choice observation modality, a sub-array of `A` which we'll call `A_choice`\n",
        "\n",
        "<img src=\"https://drive.google.com/uc?export=view&id=1LGdGX0TgesvQ2HDnHMg42XHh0n6ZKnHw\"/>\n"
      ]
    },
    {
      "cell_type": "code",
      "execution_count": 10,
      "metadata": {
        "id": "VHdgBVSm-mOL"
      },
      "outputs": [],
      "source": [
        "A_choice = np.zeros((len(choice_obs_names), len(context_names), len(choice_names)))\n",
        "\n",
        "for choice_id in range(len(choice_names)):\n",
        "\n",
        "  A_choice[choice_id, :, choice_id] = 1.0\n",
        "\n",
        "A[2] = A_choice"
      ]
    },
    {
      "cell_type": "code",
      "execution_count": 11,
      "metadata": {
        "id": "2O5QpoC8Uc8j"
      },
      "outputs": [
        {
          "data": {
            "image/png": "[encoded data removed]",
            "text/plain": [
              "<Figure size 432x432 with 1 Axes>"
            ]
          },
          "metadata": {
            "needs_background": "light"
          },
          "output_type": "display_data"
        }
      ],
      "source": [
        "\"\"\" Condition on context (first hidden state factor) and display the remaining indices (outcome and choice state) \"\"\"\n",
        "\n",
        "plot_likelihood(A[2][:,0,:], \"Mapping between sensed states and true states\")"
      ]
    },
    {
      "cell_type": "markdown",
      "metadata": {
        "id": "FhP5apgR-7zN"
      },
      "source": [
        "### Create the `B` arrays"
      ]
    },
    {
      "cell_type": "code",
      "execution_count": 12,
      "metadata": {
        "id": "JSiiIJdu4n9b"
      },
      "outputs": [],
      "source": [
        "B = utils.obj_array(num_factors)"
      ]
    },
    {
      "cell_type": "markdown",
      "metadata": {
        "id": "_b7Fyz0T59e0"
      },
      "source": [
        " Fill out the context state factor dynamics, a sub-array of `B` which we'll call `B_context`\n",
        "\n",
        "<img src=\"https://drive.google.com/uc?export=view&id=1_VvkCpRu1wWwEFiAJKnOGAGikd5KeiiE\" width=\"600\" height=\"300\" />\n"
      ]
    },
    {
      "cell_type": "code",
      "execution_count": 13,
      "metadata": {
        "id": "lVtIXiyq6EHo"
      },
      "outputs": [],
      "source": [
        "B_context = np.zeros( (len(context_names), len(context_names), len(context_action_names)) )\n",
        "\n",
        "B_context[:,:,0] = np.eye(len(context_names))\n",
        "\n",
        "B[0] = B_context"
      ]
    },
    {
      "cell_type": "markdown",
      "metadata": {
        "id": "FzDc6PLG5Mof"
      },
      "source": [
        "Fill out the choice factor dynamics, a sub-array of `B` which we'll call `B_choice`\n",
        "\n",
        "<img src=\"https://drive.google.com/uc?export=view&id=1qeuFvNIrJR7ldjpkrB6_jAp6JM3UhMw0\"/>\n"
      ]
    },
    {
      "cell_type": "code",
      "execution_count": 14,
      "metadata": {
        "id": "--5HyEYt42Q8"
      },
      "outputs": [],
      "source": [
        "B_choice = np.zeros( (len(choice_names), len(choice_names), len(choice_action_names)) )\n",
        "\n",
        "for choice_i in range(len(choice_names)):\n",
        "  \n",
        "  B_choice[choice_i, :, choice_i] = 1.0\n",
        "\n",
        "B[1] = B_choice"
      ]
    },
    {
      "cell_type": "markdown",
      "metadata": {
        "id": "ll-mBL_2_McK"
      },
      "source": [
        "### The `C` vectors"
      ]
    },
    {
      "cell_type": "code",
      "execution_count": 15,
      "metadata": {
        "id": "ib54P_VFvjk0"
      },
      "outputs": [],
      "source": [
        "\"\"\" Explain `obj_array_zeros` and how you don't have to populate them necessarily \"\"\"\n",
        "C = utils.obj_array_zeros(num_obs)"
      ]
    },
    {
      "cell_type": "code",
      "execution_count": 16,
      "metadata": {
        "id": "4JlKcepO_KgA"
      },
      "outputs": [
        {
          "data": {
            "image/png": "[encoded data removed]",
            "text/plain": [
              "<Figure size 432x288 with 1 Axes>"
            ]
          },
          "metadata": {
            "needs_background": "light"
          },
          "output_type": "display_data"
        }
      ],
      "source": [
        "from pymdp.maths import softmax\n",
        "\n",
        "C_reward = np.zeros(len(reward_obs_names))\n",
        "C_reward[1] = -4.0 \n",
        "C_reward[2] = 2.0 \n",
        "\n",
        "C[1] = C_reward\n",
        "\n",
        "plot_beliefs(softmax(C_reward), title_str = \"Prior preferences\")"
      ]
    },
    {
      "cell_type": "markdown",
      "metadata": {
        "id": "lJXKG-IV_qm1"
      },
      "source": [
        "### The `D` vectors"
      ]
    },
    {
      "cell_type": "code",
      "execution_count": 17,
      "metadata": {
        "id": "MJTKm27fv_Rf"
      },
      "outputs": [
        {
          "name": "stdout",
          "output_type": "stream",
          "text": [
            "Beliefs about which arm is better: [0.5 0.5]\n",
            "Beliefs about starting location: [1. 0. 0. 0.]\n"
          ]
        }
      ],
      "source": [
        "D = utils.obj_array(num_factors)\n",
        "\n",
        "D_context = np.array([0.5,0.5])\n",
        "\n",
        "D[0] = D_context\n",
        "\n",
        "D_choice = np.zeros(len(choice_names))\n",
        "\n",
        "D_choice[choice_names.index(\"Start\")] = 1.0\n",
        "\n",
        "D[1] = D_choice\n",
        "\n",
        "print(f'Beliefs about which arm is better: {D[0]}')\n",
        "print(f'Beliefs about starting location: {D[1]}')"
      ]
    },
    {
      "cell_type": "markdown",
      "metadata": {
        "id": "fP7NySzAhWgf"
      },
      "source": [
        "## **Constructing an `Agent`**"
      ]
    },
    {
      "cell_type": "code",
      "execution_count": 18,
      "metadata": {
        "id": "ls9VoZX__0Vp"
      },
      "outputs": [],
      "source": [
        "from pymdp.agent import Agent\n",
        "\n",
        "my_agent = Agent(A = A, B = B, C = C, D = D)"
      ]
    },
    {
      "cell_type": "markdown",
      "metadata": {
        "id": "4Xu-ZVZBh_wH"
      },
      "source": [
        "Define a class for the 2-armed bandit environment (AKA the _generative process_)"
      ]
    },
    {
      "cell_type": "code",
      "execution_count": 19,
      "metadata": {
        "id": "LjxoLs67AXwR"
      },
      "outputs": [],
      "source": [
        "class TwoArmedBandit(object):\n",
        "\n",
        "  def __init__(self, context = None, p_hint = 1.0, p_reward = 0.8):\n",
        "\n",
        "    self.context_names = [\"Left-Better\", \"Right-Better\"]\n",
        "\n",
        "    if context == None:\n",
        "      self.context = self.context_names[utils.sample(np.array([0.5, 0.5]))] # randomly sample which bandit arm is better (Left or Right)\n",
        "    else:\n",
        "      self.context = context\n",
        "\n",
        "    self.p_hint = p_hint\n",
        "    self.p_reward = p_reward\n",
        "\n",
        "    self.reward_obs_names = ['Null', 'Loss', 'Reward']\n",
        "    self.hint_obs_names = ['Null', 'Hint-left', 'Hint-right']\n",
        "\n",
        "  def step(self, action):\n",
        "\n",
        "    if action == \"Move-start\":\n",
        "      observed_hint = \"Null\"\n",
        "      observed_reward = \"Null\"\n",
        "      observed_choice = \"Start\"\n",
        "    elif action == \"Get-hint\":\n",
        "      if self.context == \"Left-Better\":\n",
        "        observed_hint = self.hint_obs_names[utils.sample(np.array([0.0, self.p_hint, 1.0 - self.p_hint]))]\n",
        "      elif self.context == \"Right-Better\":\n",
        "        observed_hint = self.hint_obs_names[utils.sample(np.array([0.0, 1.0 - self.p_hint, self.p_hint]))]\n",
        "      observed_reward = \"Null\"\n",
        "      observed_choice = \"Hint\"\n",
        "    elif action == \"Play-left\":\n",
        "      observed_hint = \"Null\"\n",
        "      observed_choice = \"Left Arm\"\n",
        "      if self.context == \"Left-Better\":\n",
        "        observed_reward = self.reward_obs_names[utils.sample(np.array([0.0, 1.0 - self.p_reward, self.p_reward]))]\n",
        "      elif self.context == \"Right-Better\":\n",
        "        observed_reward = self.reward_obs_names[utils.sample(np.array([0.0, self.p_reward, 1.0 - self.p_reward]))]\n",
        "    elif action == \"Play-right\":\n",
        "      observed_hint = \"Null\"\n",
        "      observed_choice = \"Right Arm\"\n",
        "      if self.context == \"Right-Better\":\n",
        "        observed_reward = self.reward_obs_names[utils.sample(np.array([0.0, 1.0 - self.p_reward, self.p_reward]))]\n",
        "      elif self.context == \"Left-Better\":\n",
        "        observed_reward = self.reward_obs_names[utils.sample(np.array([0.0, self.p_reward, 1.0 - self.p_reward]))]\n",
        "    \n",
        "    obs = [observed_hint, observed_reward, observed_choice]\n",
        "\n",
        "    return obs\n",
        "  "
      ]
    },
    {
      "cell_type": "markdown",
      "metadata": {
        "id": "h6IeX_BlhmBy"
      },
      "source": [
        "Now we'll write a function that will take the agent, the environment, and a time length and run the active inference loop"
      ]
    },
    {
      "cell_type": "code",
      "execution_count": 20,
      "metadata": {
        "id": "In-AoaGQDdQH"
      },
      "outputs": [],
      "source": [
        "def run_active_inference_loop(my_agent, my_env, T = 5):\n",
        "\n",
        "  \"\"\" Initialize the first observation \"\"\"\n",
        "  obs_label = [\"Null\", \"Null\", \"Start\"]  # agent observes itself seeing a `Null` hint, getting a `Null` reward, and seeing itself in the `Start` location\n",
        "  obs = [hint_obs_names.index(obs_label[0]), reward_obs_names.index(obs_label[1]), choice_obs_names.index(obs_label[2])]\n",
        "  \n",
        "  for t in range(T):\n",
        "    qs = my_agent.infer_states(obs)\n",
        "    plot_beliefs(qs[0], title_str = f\"Beliefs about the context at time {t}\")\n",
        "\n",
        "    q_pi, efe = my_agent.infer_policies()\n",
        "    chosen_action_id = my_agent.sample_action()\n",
        "\n",
        "    movement_id = int(chosen_action_id[1])\n",
        "\n",
        "    choice_action = choice_action_names[movement_id]\n",
        "\n",
        "    obs_label = my_env.step(choice_action)\n",
        "\n",
        "    obs = [hint_obs_names.index(obs_label[0]), reward_obs_names.index(obs_label[1]), choice_obs_names.index(obs_label[2])]\n",
        "\n",
        "    print(f'Action at time {t}: {choice_action}')\n",
        "    print(f'Reward at time {t}: {obs_label[1]}')\n"
      ]
    },
    {
      "cell_type": "markdown",
      "metadata": {
        "id": "gYeg73orwtHC"
      },
      "source": [
        "Now all we have to do is define the two-armed bandit environment, choose the length of the simulation, and run the function we wrote above.\n",
        "\n",
        "\n",
        "*   Try playing with the hint accuracy and/or reward statistics of the environment - remember this is _different_ than the agent's representation of the reward statistics (i.e. the agent's generative model, e.g. the A or B matrices).\n",
        "\n",
        "\n"
      ]
    },
    {
      "cell_type": "code",
      "execution_count": 21,
      "metadata": {
        "id": "Vy7OXyo8wvY0"
      },
      "outputs": [
        {
          "data": {
            "image/png": "[encoded data removed]",
            "text/plain": [
              "<Figure size 432x288 with 1 Axes>"
            ]
          },
          "metadata": {
            "needs_background": "light"
          },
          "output_type": "display_data"
        },
        {
          "name": "stdout",
          "output_type": "stream",
          "text": [
            "Action at time 0: Get-hint\n",
            "Reward at time 0: Null\n"
          ]
        },
        {
          "data": {
            "image/png": "[encoded data removed]",
            "text/plain": [
              "<Figure size 432x288 with 1 Axes>"
            ]
          },
          "metadata": {
            "needs_background": "light"
          },
          "output_type": "display_data"
        },
        {
          "name": "stdout",
          "output_type": "stream",
          "text": [
            "Action at time 1: Get-hint\n",
            "Reward at time 1: Null\n"
          ]
        },
        {
          "data": {
            "image/png": "[encoded data removed]",
            "text/plain": [
              "<Figure size 432x288 with 1 Axes>"
            ]
          },
          "metadata": {
            "needs_background": "light"
          },
          "output_type": "display_data"
        },
        {
          "name": "stdout",
          "output_type": "stream",
          "text": [
            "Action at time 2: Play-right\n",
            "Reward at time 2: Reward\n"
          ]
        },
        {
          "data": {
            "image/png": "[encoded data removed]",
            "text/plain": [
              "<Figure size 432x288 with 1 Axes>"
            ]
          },
          "metadata": {
            "needs_background": "light"
          },
          "output_type": "display_data"
        },
        {
          "name": "stdout",
          "output_type": "stream",
          "text": [
            "Action at time 3: Play-right\n",
            "Reward at time 3: Reward\n"
          ]
        },
        {
          "data": {
            "image/png": "[encoded data removed]",
            "text/plain": [
              "<Figure size 432x288 with 1 Axes>"
            ]
          },
          "metadata": {
            "needs_background": "light"
          },
          "output_type": "display_data"
        },
        {
          "name": "stdout",
          "output_type": "stream",
          "text": [
            "Action at time 4: Play-right\n",
            "Reward at time 4: Reward\n"
          ]
        },
        {
          "data": {
            "image/png": "[encoded data removed]",
            "text/plain": [
              "<Figure size 432x288 with 1 Axes>"
            ]
          },
          "metadata": {
            "needs_background": "light"
          },
          "output_type": "display_data"
        },
        {
          "name": "stdout",
          "output_type": "stream",
          "text": [
            "Action at time 5: Play-right\n",
            "Reward at time 5: Loss\n"
          ]
        },
        {
          "data": {
            "image/png": "[encoded data removed]",
            "text/plain": [
              "<Figure size 432x288 with 1 Axes>"
            ]
          },
          "metadata": {
            "needs_background": "light"
          },
          "output_type": "display_data"
        },
        {
          "name": "stdout",
          "output_type": "stream",
          "text": [
            "Action at time 6: Play-right\n",
            "Reward at time 6: Reward\n"
          ]
        },
        {
          "data": {
            "image/png": "[encoded data removed]",
            "text/plain": [
              "<Figure size 432x288 with 1 Axes>"
            ]
          },
          "metadata": {
            "needs_background": "light"
          },
          "output_type": "display_data"
        },
        {
          "name": "stdout",
          "output_type": "stream",
          "text": [
            "Action at time 7: Play-right\n",
            "Reward at time 7: Reward\n"
          ]
        },
        {
          "data": {
            "image/png": "[encoded data removed]",
            "text/plain": [
              "<Figure size 432x288 with 1 Axes>"
            ]
          },
          "metadata": {
            "needs_background": "light"
          },
          "output_type": "display_data"
        },
        {
          "name": "stdout",
          "output_type": "stream",
          "text": [
            "Action at time 8: Play-right\n",
            "Reward at time 8: Loss\n"
          ]
        },
        {
          "data": {
            "image/png": "[encoded data removed]",
            "text/plain": [
              "<Figure size 432x288 with 1 Axes>"
            ]
          },
          "metadata": {
            "needs_background": "light"
          },
          "output_type": "display_data"
        },
        {
          "name": "stdout",
          "output_type": "stream",
          "text": [
            "Action at time 9: Play-right\n",
            "Reward at time 9: Reward\n"
          ]
        }
      ],
      "source": [
        "p_hint_env = 1.0 # this is the \"true\" accuracy of the hint - i.e. how often does the hint actually signal which arm is better. REMEMBER: THIS IS INDEPENDENT OF HOW YOU PARAMETERIZE THE A MATRIX FOR THE HINT MODALITY\n",
        "p_reward_env = 0.7 # this is the \"true\" reward probability - i.e. how often does the better arm actually return a reward, as opposed to a loss. REMEMBER: THIS IS INDEPENDENT OF HOW YOU PARAMETERIZE THE A MATRIX FOR THE REWARD MODALITY\n",
        "env = TwoArmedBandit(p_hint = p_hint_env, p_reward = p_reward_env)\n",
        "\n",
        "T = 10\n",
        "\n",
        "# my_agent = Agent(A = A, B = B, C = C, D = D) # in case you want to re-define the agent, you can run this again\n",
        "\n",
        "run_active_inference_loop(my_agent, env, T = T)"
      ]
    },
    {
      "cell_type": "markdown",
      "metadata": {
        "id": "scuxk92i3Mef"
      },
      "source": [
        "Now let's try manipulating the agent's prior preferences over reward observations ($\\mathbf{C}[1]$) in order to examine the tension between exploration and exploitation."
      ]
    },
    {
      "cell_type": "code",
      "execution_count": 22,
      "metadata": {
        "id": "B1XpcHlX3Gnj"
      },
      "outputs": [
        {
          "data": {
            "image/png": "[encoded data removed]",
            "text/plain": [
              "<Figure size 432x288 with 1 Axes>"
            ]
          },
          "metadata": {
            "needs_background": "light"
          },
          "output_type": "display_data"
        },
        {
          "name": "stdout",
          "output_type": "stream",
          "text": [
            "Action at time 0: Play-left\n",
            "Reward at time 0: Reward\n"
          ]
        },
        {
          "data": {
            "image/png": "[encoded data removed]",
            "text/plain": [
              "<Figure size 432x288 with 1 Axes>"
            ]
          },
          "metadata": {
            "needs_background": "light"
          },
          "output_type": "display_data"
        },
        {
          "name": "stdout",
          "output_type": "stream",
          "text": [
            "Action at time 1: Play-right\n",
            "Reward at time 1: Loss\n"
          ]
        },
        {
          "data": {
            "image/png": "[encoded data removed]",
            "text/plain": [
              "<Figure size 432x288 with 1 Axes>"
            ]
          },
          "metadata": {
            "needs_background": "light"
          },
          "output_type": "display_data"
        },
        {
          "name": "stdout",
          "output_type": "stream",
          "text": [
            "Action at time 2: Play-right\n",
            "Reward at time 2: Reward\n"
          ]
        },
        {
          "data": {
            "image/png": "[encoded data removed]",
            "text/plain": [
              "<Figure size 432x288 with 1 Axes>"
            ]
          },
          "metadata": {
            "needs_background": "light"
          },
          "output_type": "display_data"
        },
        {
          "name": "stdout",
          "output_type": "stream",
          "text": [
            "Action at time 3: Play-right\n",
            "Reward at time 3: Reward\n"
          ]
        },
        {
          "data": {
            "image/png": "[encoded data removed]",
            "text/plain": [
              "<Figure size 432x288 with 1 Axes>"
            ]
          },
          "metadata": {
            "needs_background": "light"
          },
          "output_type": "display_data"
        },
        {
          "name": "stdout",
          "output_type": "stream",
          "text": [
            "Action at time 4: Play-left\n",
            "Reward at time 4: Loss\n"
          ]
        },
        {
          "data": {
            "image/png": "[encoded data removed]",
            "text/plain": [
              "<Figure size 432x288 with 1 Axes>"
            ]
          },
          "metadata": {
            "needs_background": "light"
          },
          "output_type": "display_data"
        },
        {
          "name": "stdout",
          "output_type": "stream",
          "text": [
            "Action at time 5: Play-left\n",
            "Reward at time 5: Reward\n"
          ]
        },
        {
          "data": {
            "image/png": "[encoded data removed]",
            "text/plain": [
              "<Figure size 432x288 with 1 Axes>"
            ]
          },
          "metadata": {
            "needs_background": "light"
          },
          "output_type": "display_data"
        },
        {
          "name": "stdout",
          "output_type": "stream",
          "text": [
            "Action at time 6: Play-left\n",
            "Reward at time 6: Loss\n"
          ]
        },
        {
          "data": {
            "image/png": "[encoded data removed]",
            "text/plain": [
              "<Figure size 432x288 with 1 Axes>"
            ]
          },
          "metadata": {
            "needs_background": "light"
          },
          "output_type": "display_data"
        },
        {
          "name": "stdout",
          "output_type": "stream",
          "text": [
            "Action at time 7: Play-left\n",
            "Reward at time 7: Reward\n"
          ]
        },
        {
          "data": {
            "image/png": "[encoded data removed]",
            "text/plain": [
              "<Figure size 432x288 with 1 Axes>"
            ]
          },
          "metadata": {
            "needs_background": "light"
          },
          "output_type": "display_data"
        },
        {
          "name": "stdout",
          "output_type": "stream",
          "text": [
            "Action at time 8: Play-left\n",
            "Reward at time 8: Reward\n"
          ]
        },
        {
          "data": {
            "image/png": "[encoded data removed]",
            "text/plain": [
              "<Figure size 432x288 with 1 Axes>"
            ]
          },
          "metadata": {
            "needs_background": "light"
          },
          "output_type": "display_data"
        },
        {
          "name": "stdout",
          "output_type": "stream",
          "text": [
            "Action at time 9: Play-right\n",
            "Reward at time 9: Loss\n"
          ]
        }
      ],
      "source": [
        "# mess with the 'shape' of the agent's reward function\n",
        "C[1][1] = 5.0 \n",
        "\n",
        "my_agent = Agent(A = A, B = B, C = C, D = D) # redefine the agent with the new preferences\n",
        "env = TwoArmedBandit(p_hint = 0.8, p_reward = 0.8) # re-initialize the environment -- this time, the hint is not always accurate (`p_hint = 0.8`)\n",
        "\n",
        "run_active_inference_loop(my_agent, env, T = T)"
      ]
    }
  ],
  "metadata": {
    "colab": {
      "collapsed_sections": [
        "lu35jiGX4Iae",
        "0Icnjv8T4fpx"
      ],
      "name": "Active Inference with pymdp: Tutorial 2",
      "provenance": []
    },
    "kernelspec": {
      "display_name": "Python 3",
      "name": "python3"
    },
    "language_info": {
      "codemirror_mode": {
        "name": "ipython",
        "version": 3
      },
      "file_extension": ".py",
      "mimetype": "text/x-python",
      "name": "python",
      "nbconvert_exporter": "python",
      "pygments_lexer": "ipython3",
      "version": "3.8.8"
    }
  },
  "nbformat": 4,
  "nbformat_minor": 0
}
