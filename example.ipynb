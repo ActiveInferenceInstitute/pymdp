{
 "cells": [
  {
   "cell_type": "markdown",
   "metadata": {},
   "source": [
    "# Active Inference for Markov Decision Processes\n",
    "\n",
    "> This notebook provides an example of the `inferactively` toolbox "
   ]
  },
  {
   "cell_type": "markdown",
   "metadata": {},
   "source": [
    "## Environments\n",
    "\n",
    "The `inferactively` includes environments that follow the openAI `gym` API. Here, we will use a grid-world environment. We will assume that the agent is observing and acting in multiple grid environments simultaneously. This will enable us to demonstrate how *factors* are implemented in `inferactively`.\n",
    "\n",
    "We assume $N$ grid worlds, each of some arbitary shape $w \\ x \\ h$. At each time step $t$, the environment generates observations about the agents positions in each grid world. Formally, it generates a vector $[o_0 , ... , o_N]$. \n",
    "\n",
    "Agents can take one of 5 actions in each grid world - `{UP, RIGHT, DOWN, LEFT, STAY}`, but here we will sample random actions."
   ]
  },
  {
   "cell_type": "code",
   "execution_count": 20,
   "metadata": {},
   "outputs": [
    {
     "name": "stdout",
     "output_type": "stream",
     "text": [
      "obs [ 9 23] controls [1 1]\n",
      "obs [10 17] controls [1 0]\n",
      "obs [16 11] controls [2 0]\n",
      "obs [17  5] controls [1 0]\n",
      "obs [17  5] controls [1 0]\n"
     ]
    }
   ],
   "source": [
    "from inferactively.envs import NDGridWorldEnv\n",
    "\n",
    "env = NDGridWorldEnv(shape=[6, 6], n_dims=2)\n",
    "\n",
    "obs = env.reset()\n",
    "for _ in range(5):\n",
    "    controls = env.sample_action()\n",
    "    obs = env.step(controls)\n",
    "    print(f\"obs {obs} controls {controls}\")"
   ]
  },
  {
   "cell_type": "markdown",
   "metadata": {},
   "source": [
    "### Generative model\n",
    "\n",
    "Now we have an environment, the next step is to construct an agent's generative model (we will cover learning a model later). `inferactively` contains several useful classes for constructing models.\n",
    "\n",
    "We consider the following generative model:\n",
    "$$ p(\\mathbf{o}_{1:T}, \\mathbf{s}_{1:T}) = \\prod_{t=1}^T p(\\mathbf{o}_t|\\mathbf{s}_t) p(\\mathbf{s}_t|\\mathbf{s}_{t-1}, \\mathbf{u}_{t-1}) $$\n",
    "\n",
    "Here, $o$ are observations, $s$ are \"hidden states\" - beliefs about the causes of sensory data - and $u$ are control states.\n",
    "\n",
    "### Likelihood distribution (`A`)\n",
    "            \n",
    "We will begin by considering the likelihood distribution $p(\\mathbf{o}_t|\\mathbf{s}_t)$, which will be denoted `A` in the code.\n",
    "\n",
    "To make inference tractble, we factorise the beliefs about hidden states, with one factor for each grid world $N$. In other words, the agent believes that its position in grid $a$ is independent of its position in grid $b$ (which it is).\n",
    "\n",
    "This likelihood distribution is over $M$ modalities (2). Moreover, there are $N$ hidden state factors (10). In practice, a separate likelihood distribution is maintained for each modality $m$, i.e $p(o_t^m|s_t)$, each of which has the dimensions `(o_m, s_0, ..., s_N)`\n",
    "\n",
    "For simplicity, we will assume that each hidden state factor maps to a corresponding observation modality, and that this map is an identity mapping. In short, agents have perfect knowledge about where there are in the world. Later, we will introduce uncertainty into the inference procedure.\n",
    "\n",
    "> _Note: number of hidden states will be `w x h` for each factor_\n",
    "\n",
    "This can be implemented as follows:"
   ]
  },
  {
   "cell_type": "code",
   "execution_count": 44,
   "metadata": {},
   "outputs": [
    {
     "name": "stdout",
     "output_type": "stream",
     "text": [
      "Number of states per factor [36, 36] Number of observations per modality [36, 36]\n",
      "Number of state factors 2 Number of modalities 2\n",
      "<Categorical Distribution> \n",
      " [[1. 0. 0. ... 0. 0. 0.]\n",
      " [0. 1. 0. ... 0. 0. 0.]\n",
      " [0. 0. 1. ... 0. 0. 0.]\n",
      " ...\n",
      " [0. 0. 0. ... 1. 0. 0.]\n",
      " [0. 0. 0. ... 0. 1. 0.]\n",
      " [0. 0. 0. ... 0. 0. 1.]] (36, 36, 36)\n"
     ]
    }
   ],
   "source": [
    "import numpy as np\n",
    "from inferactively.distributions import Categorical\n",
    "\n",
    "n_observations = env.n_observations\n",
    "n_states = env.n_states\n",
    "print(f\"Number of states per factor {n_states} Number of observations per modality {n_observations}\")\n",
    "\n",
    "n_modalities = len(n_observations)\n",
    "n_factors = len(n_states)\n",
    "print(f\"Number of state factors {n_factors} Number of modalities {n_modalities}\")\n",
    "\n",
    "A = np.empty(n_modalities, dtype=\"object\")\n",
    "for m in range(n_modalities):\n",
    "    dist = np.zeros((n_observations[m], *n_states))\n",
    "    dist[:, :, :] = np.eye(n_states[0])\n",
    "    A[m] = dist\n",
    "A = Categorical(values=A)\n",
    "\n",
    "print(A[0][0, :, :], A[0].shape)"
   ]
  },
  {
   "cell_type": "code",
   "execution_count": 45,
   "metadata": {},
   "outputs": [
    {
     "name": "stdout",
     "output_type": "stream",
     "text": [
      "[[0.02777778 0.02777778 0.02777778 0.02777778 0.02777778 0.02777778\n",
      "  0.02777778 0.02777778 0.02777778 0.02777778 0.02777778 0.02777778\n",
      "  0.02777778 0.02777778 0.02777778 0.02777778 0.02777778 0.02777778\n",
      "  0.02777778 0.02777778 0.02777778 0.02777778 0.02777778 0.02777778\n",
      "  0.02777778 0.02777778 0.02777778 0.02777778 0.02777778 0.02777778\n",
      "  0.02777778 0.02777778 0.02777778 0.02777778 0.02777778 0.02777778]]\n"
     ]
    }
   ],
   "source": [
    "from inferactively.core import cre\n",
    "\n",
    "obs = (12, 5)\n",
    "qs = update_posterior_states(A, obs, return_numpy=False)\n",
    "print(qs[1].values.transpose())"
   ]
  },
  {
   "cell_type": "code",
   "execution_count": null,
   "metadata": {},
   "outputs": [],
   "source": []
  },
  {
   "cell_type": "code",
   "execution_count": null,
   "metadata": {},
   "outputs": [],
   "source": []
  }
 ],
 "metadata": {
  "kernelspec": {
   "display_name": "Python 3",
   "language": "python",
   "name": "python3"
  },
  "language_info": {
   "codemirror_mode": {
    "name": "ipython",
    "version": 3
   },
   "file_extension": ".py",
   "mimetype": "text/x-python",
   "name": "python",
   "nbconvert_exporter": "python",
   "pygments_lexer": "ipython3",
   "version": "3.7.3"
  }
 },
 "nbformat": 4,
 "nbformat_minor": 4
}
