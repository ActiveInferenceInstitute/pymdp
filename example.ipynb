{
 "cells": [
  {
   "cell_type": "markdown",
   "metadata": {},
   "source": [
    "# Active Inference for Markov Decision Processes\n",
    "\n",
    "> This notebook provides an example of the `inferactively` toolbox "
   ]
  },
  {
   "cell_type": "markdown",
   "metadata": {},
   "source": [
    "## Environments\n",
    "\n",
    "The `inferactively` toolbox includes environments that follow the openAI `gym` API. Here, we will use a grid-world environment. \n",
    "\n",
    "We assume a grid world with a shape $w \\ x \\ h$. At each time step $t$, the environment generates observations about the agents positions in the grid world. Agents can take one of 5 actions in each grid world - `{UP, RIGHT, DOWN, LEFT, STAY}`, but here we will sample random actions. "
   ]
  },
  {
   "cell_type": "code",
   "execution_count": 1,
   "metadata": {},
   "outputs": [
    {
     "name": "stdout",
     "output_type": "stream",
     "text": [
      "Agent position [x 1, y 1]\n"
     ]
    },
    {
     "data": {
      "image/png": "[encoded data removed]",
      "text/plain": [
       "<Figure size 216x216 with 1 Axes>"
      ]
     },
     "metadata": {
      "needs_background": "light"
     },
     "output_type": "display_data"
    }
   ],
   "source": [
    "from inferactively.envs import GridWorldEnv\n",
    "\n",
    "env = GridWorldEnv(shape=[4, 4])\n",
    "\n",
    "obs = env.reset(init_state=5)\n",
    "print(f\"Agent position [x {env.position[0]}, y {env.position[1]}]\")\n",
    "env.render(\"Initial position\")"
   ]
  },
  {
   "cell_type": "code",
   "execution_count": 4,
   "metadata": {},
   "outputs": [
    {
     "name": "stdout",
     "output_type": "stream",
     "text": [
      "Agent position [x 1, y 1]\n"
     ]
    },
    {
     "data": {
      "image/png": "[encoded data removed]",
      "text/plain": [
       "<Figure size 216x216 with 1 Axes>"
      ]
     },
     "metadata": {
      "needs_background": "light"
     },
     "output_type": "display_data"
    },
    {
     "name": "stdout",
     "output_type": "stream",
     "text": [
      "Agent action [LEFT]\n",
      "Agent position [x 1, y 0]\n"
     ]
    },
    {
     "data": {
      "image/png": "[encoded data removed]",
      "text/plain": [
       "<Figure size 216x216 with 1 Axes>"
      ]
     },
     "metadata": {
      "needs_background": "light"
     },
     "output_type": "display_data"
    },
    {
     "name": "stdout",
     "output_type": "stream",
     "text": [
      "Agent action [STAY]\n",
      "Agent position [x 1, y 0]\n"
     ]
    },
    {
     "data": {
      "image/png": "[encoded data removed]",
      "text/plain": [
       "<Figure size 216x216 with 1 Axes>"
      ]
     },
     "metadata": {
      "needs_background": "light"
     },
     "output_type": "display_data"
    },
    {
     "name": "stdout",
     "output_type": "stream",
     "text": [
      "Agent action [STAY]\n",
      "Agent position [x 1, y 0]\n"
     ]
    },
    {
     "data": {
      "image/png": "[encoded data removed]",
      "text/plain": [
       "<Figure size 216x216 with 1 Axes>"
      ]
     },
     "metadata": {
      "needs_background": "light"
     },
     "output_type": "display_data"
    }
   ],
   "source": [
    "from inferactively.envs import GridWorldEnv\n",
    "\n",
    "env = GridWorldEnv(shape=[4, 4])\n",
    "\n",
    "obs = env.reset(init_state=5)\n",
    "print(f\"Agent position [x {env.position[0]}, y {env.position[1]}]\")\n",
    "env.render(\"Initial position\")\n",
    "\n",
    "T = 3\n",
    "for t in range(T):\n",
    "    action = env.sample_action()\n",
    "    obs = env.step(action)\n",
    "    print(f\"Agent action [{env.CONTROL_NAMES[action]}]\")\n",
    "    print(f\"Agent position [x {env.position[0]}, y {env.position[1]}]\")\n",
    "    env.render()"
   ]
  }
 ],
 "metadata": {
  "kernelspec": {
   "display_name": "Python 3",
   "language": "python",
   "name": "python3"
  },
  "language_info": {
   "codemirror_mode": {
    "name": "ipython",
    "version": 3
   },
   "file_extension": ".py",
   "mimetype": "text/x-python",
   "name": "python",
   "nbconvert_exporter": "python",
   "pygments_lexer": "ipython3",
   "version": "3.7.3"
  }
 },
 "nbformat": 4,
 "nbformat_minor": 4
}
