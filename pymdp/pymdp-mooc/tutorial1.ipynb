{
 "cells": [
  {
   "cell_type": "code",
   "execution_count": null,
   "source": [],
   "outputs": [],
   "metadata": {}
  },
  {
   "cell_type": "markdown",
   "source": [
    "## Constructing a Generative Model "
   ],
   "metadata": {}
  },
  {
   "cell_type": "markdown",
   "source": [
    "In this notebook we will construct a simple generative model for an active inference agent navigating a 3x3 grid world environment. The agent can perform one of 5 actions at each time step: `LEFT, RIGHT, UP, DOWN, STAY`. The goal of the agent is to navigate to its preferred position. \n",
    "\n",
    "We will create matrices for both the environment as well as the agent itself. As we go up levels of abstraction, these environment and generative model matrices will be imported from classes - but this notebook is the lowest level representation of construction, to show how everything is built from the ground up.  \n"
   ],
   "metadata": {}
  },
  {
   "cell_type": "markdown",
   "source": [
    "## Understanding the state space"
   ],
   "metadata": {}
  },
  {
   "cell_type": "markdown",
   "source": [
    "The first thing to note is that we are in a 3x3 grid world which means we have 9 states in total. We can define the following mapping to better understand the space:"
   ],
   "metadata": {}
  },
  {
   "cell_type": "code",
   "execution_count": 38,
   "source": [
    "state_mapping = {0: (0,0), 1: (1,0), 2: (1,0), 3: (0,1), 4: (1,1), 5:(2,1), 6: (0,2), 7:(1,2), 8:(2,2)}"
   ],
   "outputs": [],
   "metadata": {}
  },
  {
   "cell_type": "markdown",
   "source": [
    "And the following heatmap just represents how the coordinates map to the real grid space"
   ],
   "metadata": {}
  },
  {
   "cell_type": "code",
   "execution_count": 86,
   "source": [
    "grid = np.zeros((3,3))\n",
    "c = 1\n",
    "for i in range(grid.shape[0]):\n",
    "    for j in range(grid.shape[1]):\n",
    "        grid[i,j] += c\n",
    "        c += 1\n",
    "fig = plt.figure(figsize = (3,3))\n",
    "sns.heatmap(grid, cbar = False, cmap = 'crest')"
   ],
   "outputs": [
    {
     "output_type": "execute_result",
     "data": {
      "text/plain": [
       "<AxesSubplot:>"
      ]
     },
     "metadata": {},
     "execution_count": 86
    },
    {
     "output_type": "display_data",
     "data": {
      "text/plain": [
       "<Figure size 216x216 with 1 Axes>"
      ],
      "image/png": "[encoded data removed]"
     },
     "metadata": {
      "needs_background": "light"
     }
    }
   ],
   "metadata": {}
  },
  {
   "cell_type": "markdown",
   "source": [
    "## Likelihood Matrix: A"
   ],
   "metadata": {}
  },
  {
   "cell_type": "markdown",
   "source": [
    "The likelihood matrix represents $P(o_t | s_t)$ , the probability of an observation given a state. In a grid world environment, the likelihood matrix of the agent is identical to that of the environment. It is simply the identity matrix over all states (in this case 9 states, for a 3x3 grid world) which represents the fact that the agent has probability 1 of observing that it is occupying any state x, given that it is in state x. This just means that the agent has full transparency over its own location in the grid. "
   ],
   "metadata": {}
  },
  {
   "cell_type": "code",
   "execution_count": 39,
   "source": [
    "import numpy as np\n",
    "import seaborn as sns\n",
    "import matplotlib.pyplot as plt"
   ],
   "outputs": [],
   "metadata": {}
  },
  {
   "cell_type": "code",
   "execution_count": 40,
   "source": [
    "A = np.eye(9)"
   ],
   "outputs": [],
   "metadata": {}
  },
  {
   "cell_type": "code",
   "execution_count": 41,
   "source": [
    "A"
   ],
   "outputs": [
    {
     "output_type": "execute_result",
     "data": {
      "text/plain": [
       "array([[1., 0., 0., 0., 0., 0., 0., 0., 0.],\n",
       "       [0., 1., 0., 0., 0., 0., 0., 0., 0.],\n",
       "       [0., 0., 1., 0., 0., 0., 0., 0., 0.],\n",
       "       [0., 0., 0., 1., 0., 0., 0., 0., 0.],\n",
       "       [0., 0., 0., 0., 1., 0., 0., 0., 0.],\n",
       "       [0., 0., 0., 0., 0., 1., 0., 0., 0.],\n",
       "       [0., 0., 0., 0., 0., 0., 1., 0., 0.],\n",
       "       [0., 0., 0., 0., 0., 0., 0., 1., 0.],\n",
       "       [0., 0., 0., 0., 0., 0., 0., 0., 1.]])"
      ]
     },
     "metadata": {},
     "execution_count": 41
    }
   ],
   "metadata": {}
  },
  {
   "cell_type": "markdown",
   "source": [
    "We can also plot the likelihood matrix as follows:"
   ],
   "metadata": {}
  },
  {
   "cell_type": "code",
   "execution_count": 103,
   "source": [
    "labels = [state_mapping[i] for i in range(A.shape[1])]\n",
    "def plot_likelihood(A):\n",
    "    fig = plt.figure(figsize = (6,6))\n",
    "    ax = sns.heatmap(A, xticklabels = labels, yticklabels = labels, cbar = False)\n",
    "    plt.title(\"Likelihood distribution (A)\")\n",
    "    plt.show()\n"
   ],
   "outputs": [],
   "metadata": {}
  },
  {
   "cell_type": "code",
   "execution_count": 104,
   "source": [
    "plot_likelihood(A)"
   ],
   "outputs": [
    {
     "output_type": "display_data",
     "data": {
      "text/plain": [
       "<Figure size 432x432 with 1 Axes>"
      ],
      "image/png": "[encoded data removed]"
     },
     "metadata": {
      "needs_background": "light"
     }
    }
   ],
   "metadata": {}
  },
  {
   "cell_type": "markdown",
   "source": [
    "## Transition matrix: B"
   ],
   "metadata": {}
  },
  {
   "cell_type": "markdown",
   "source": [
    "The transition matrix determines how the agent can move around the gridworld given each of the 5 availabel actions (UP, DOWN, LEFT, RIGHT, STAY). \n",
    "So the transition matrix will be a 9x9x5 matrix, where each entry corresponds to a starting state, an end state, and the action that defines that specific transition. \n",
    "\n",
    "To construct this matrix, we have to understand that when the agent is at the edges of the grid, it cannot move outward, so trying to move right at the right wall will cause the agent to stay still. \n",
    "\n",
    "We will start by constructing a dictionary which we call P, which maps each state to its next state given an action"
   ],
   "metadata": {}
  },
  {
   "cell_type": "code",
   "execution_count": 59,
   "source": [
    "state_mapping"
   ],
   "outputs": [
    {
     "output_type": "execute_result",
     "data": {
      "text/plain": [
       "{0: (0, 0),\n",
       " 1: (1, 0),\n",
       " 2: (1, 0),\n",
       " 3: (0, 1),\n",
       " 4: (1, 1),\n",
       " 5: (2, 1),\n",
       " 6: (0, 2),\n",
       " 7: (1, 2),\n",
       " 8: (2, 2)}"
      ]
     },
     "metadata": {},
     "execution_count": 59
    }
   ],
   "metadata": {}
  },
  {
   "cell_type": "code",
   "execution_count": 95,
   "source": [
    "P = {}\n",
    "dim = 3\n",
    "actions = {'UP':0, 'RIGHT':1, 'DOWN':2, 'LEFT':3, 'STAY':4}\n",
    "for s in state_mapping.keys():\n",
    "    P[s] = {a : [] for a in range(len(actions))}\n",
    "    x, y = state_mapping[s][0], state_mapping[s][1]\n",
    "\n",
    "    P[s][actions['UP']] = s if y == 0 else s - dim\n",
    "    P[s][actions[\"RIGHT\"]] = s if x == (dim -1) else s+1\n",
    "    P[s][actions['DOWN']] = s if y == (dim -1) else s + dim \n",
    "    P[s][actions['LEFT']] = s if x == 0 else s -1 \n",
    "    P[s][actions['STAY']] = s "
   ],
   "outputs": [],
   "metadata": {}
  },
  {
   "cell_type": "code",
   "execution_count": 96,
   "source": [
    "P"
   ],
   "outputs": [
    {
     "output_type": "execute_result",
     "data": {
      "text/plain": [
       "{0: {0: 0, 1: 1, 2: 3, 3: 0, 4: 0},\n",
       " 1: {0: 1, 1: 2, 2: 4, 3: 0, 4: 1},\n",
       " 2: {0: 2, 1: 3, 2: 5, 3: 1, 4: 2},\n",
       " 3: {0: 0, 1: 4, 2: 6, 3: 3, 4: 3},\n",
       " 4: {0: 1, 1: 5, 2: 7, 3: 3, 4: 4},\n",
       " 5: {0: 2, 1: 5, 2: 8, 3: 4, 4: 5},\n",
       " 6: {0: 3, 1: 7, 2: 6, 3: 6, 4: 6},\n",
       " 7: {0: 4, 1: 8, 2: 7, 3: 6, 4: 7},\n",
       " 8: {0: 5, 1: 8, 2: 8, 3: 7, 4: 8}}"
      ]
     },
     "metadata": {},
     "execution_count": 96
    }
   ],
   "metadata": {}
  },
  {
   "cell_type": "markdown",
   "source": [
    "From here, we can easily construct the transition matrix"
   ],
   "metadata": {}
  },
  {
   "cell_type": "code",
   "execution_count": 98,
   "source": [
    "num_states = 9\n",
    "B = np.zeros([num_states, num_states, len(actions)])\n",
    "for s in range(num_states):\n",
    "    for a in range(len(actions)):\n",
    "        ns = int(P[s][a])\n",
    "        B[ns, s, a] = 1\n",
    "        "
   ],
   "outputs": [],
   "metadata": {}
  },
  {
   "cell_type": "markdown",
   "source": [
    "B is a very large matrix, we can see its shape below, which is as expected:"
   ],
   "metadata": {}
  },
  {
   "cell_type": "code",
   "execution_count": 100,
   "source": [
    "B.shape"
   ],
   "outputs": [
    {
     "output_type": "execute_result",
     "data": {
      "text/plain": [
       "(9, 9, 5)"
      ]
     },
     "metadata": {},
     "execution_count": 100
    }
   ],
   "metadata": {}
  },
  {
   "cell_type": "markdown",
   "source": [
    "We can also visualize B on the plots below. The x axis is the starting state, and the y axis is the ending state, and each plot corresponds to an action given by the title."
   ],
   "metadata": {}
  },
  {
   "cell_type": "code",
   "execution_count": 110,
   "source": [
    "fig, axes = plt.subplots(2,3, figsize = (15,8))\n",
    "a = list(actions.keys())\n",
    "count = 0\n",
    "for i in range(dim-1):\n",
    "    for j in range(dim):\n",
    "        if count >= 5:\n",
    "            break \n",
    "        g = sns.heatmap(B[:,:,count], cmap = \"OrRd\", linewidth = 2.5, cbar = False, ax = axes[i,j], xticklabels=labels, yticklabels=labels)\n",
    "        g.set_title(a[count])\n",
    "        count +=1 \n",
    "fig.delaxes(axes.flatten()[5])\n",
    "plt.tight_layout()\n",
    "plt.show()\n",
    "    "
   ],
   "outputs": [
    {
     "output_type": "display_data",
     "data": {
      "text/plain": [
       "<Figure size 1080x576 with 5 Axes>"
      ],
      "image/png": "[encoded data removed]"
     },
     "metadata": {
      "needs_background": "light"
     }
    }
   ],
   "metadata": {}
  },
  {
   "cell_type": "markdown",
   "source": [
    "## Preferences: C "
   ],
   "metadata": {}
  },
  {
   "cell_type": "markdown",
   "source": [
    "Now we have to encode the agent's preferences, so that it can learn to go to its reward state. In the current context, the agent wants (i.e. expects) to be in the reward location 7."
   ],
   "metadata": {}
  },
  {
   "cell_type": "code",
   "execution_count": 111,
   "source": [
    "REWARD_LOCATION = 7\n",
    "reward_state = state_mapping[REWARD_LOCATION]\n",
    "print(reward_state)"
   ],
   "outputs": [
    {
     "output_type": "stream",
     "name": "stdout",
     "text": [
      "(1, 2)\n"
     ]
    }
   ],
   "metadata": {}
  },
  {
   "cell_type": "markdown",
   "source": [
    "The C matrix is a 1x9 matrix, where each value represents the preference to occupy a given state. We will create a one-hot C matrix, so that the agent only has a preference to be in state 7. "
   ],
   "metadata": {}
  },
  {
   "cell_type": "code",
   "execution_count": 116,
   "source": [
    "C = np.zeros(num_states)\n",
    "C[REWARD_LOCATION] = 1. \n",
    "print(C)\n"
   ],
   "outputs": [
    {
     "output_type": "stream",
     "name": "stdout",
     "text": [
      "[0. 0. 0. 0. 0. 0. 0. 1. 0.]\n"
     ]
    }
   ],
   "metadata": {}
  },
  {
   "cell_type": "markdown",
   "source": [
    "Now our generative model and environment are set up, and we can move on to Notebook 2, where we will run inference on the agent and see if it can reach the reward state."
   ],
   "metadata": {}
  },
  {
   "cell_type": "code",
   "execution_count": null,
   "source": [],
   "outputs": [],
   "metadata": {}
  },
  {
   "cell_type": "markdown",
   "source": [],
   "metadata": {}
  }
 ],
 "metadata": {
  "orig_nbformat": 4,
  "language_info": {
   "name": "python",
   "version": "3.9.1",
   "mimetype": "text/x-python",
   "codemirror_mode": {
    "name": "ipython",
    "version": 3
   },
   "pygments_lexer": "ipython3",
   "nbconvert_exporter": "python",
   "file_extension": ".py"
  },
  "kernelspec": {
   "name": "python3",
   "display_name": "Python 3.9.1 64-bit"
  },
  "interpreter": {
   "hash": "7812ea015bdcee6f23a998adcdd2ef97c151c0c241b7b7070987d9313e41299d"
  }
 },
 "nbformat": 4,
 "nbformat_minor": 2
}